{
 "cells": [
  {
   "cell_type": "code",
   "execution_count": null,
   "id": "9309bdae",
   "metadata": {},
   "outputs": [],
   "source": [
    "# !pip install catboost"
   ]
  },
  {
   "cell_type": "code",
   "execution_count": 1,
   "id": "33bc6374",
   "metadata": {
    "execution": {
     "iopub.execute_input": "2023-05-31T18:31:38.959506Z",
     "iopub.status.busy": "2023-05-31T18:31:38.958685Z",
     "iopub.status.idle": "2023-05-31T18:31:40.746168Z",
     "shell.execute_reply": "2023-05-31T18:31:40.744934Z"
    },
    "papermill": {
     "duration": 1.805567,
     "end_time": "2023-05-31T18:31:40.751088",
     "exception": false,
     "start_time": "2023-05-31T18:31:38.945521",
     "status": "completed"
    },
    "tags": []
   },
   "outputs": [],
   "source": [
    "import pandas as pd, numpy as np\n",
    "from catboost import CatBoostClassifier\n",
    "import pickle\n",
    "import sys"
   ]
  },
  {
   "attachments": {},
   "cell_type": "markdown",
   "id": "37d950ea",
   "metadata": {
    "papermill": {
     "duration": 0.009903,
     "end_time": "2023-05-31T18:31:40.776947",
     "exception": false,
     "start_time": "2023-05-31T18:31:40.767044",
     "status": "completed"
    },
    "tags": []
   },
   "source": [
    "# Load Train Data and Labels"
   ]
  },
  {
   "cell_type": "code",
   "execution_count": 2,
   "id": "d65dcb03",
   "metadata": {
    "execution": {
     "iopub.execute_input": "2023-05-31T18:31:40.800846Z",
     "iopub.status.busy": "2023-05-31T18:31:40.799908Z",
     "iopub.status.idle": "2023-05-31T18:31:40.813814Z",
     "shell.execute_reply": "2023-05-31T18:31:40.812352Z"
    },
    "papermill": {
     "duration": 0.029701,
     "end_time": "2023-05-31T18:31:40.817121",
     "exception": false,
     "start_time": "2023-05-31T18:31:40.787420",
     "status": "completed"
    },
    "tags": []
   },
   "outputs": [],
   "source": [
    "dtypes = {\"session_id\": 'int64',\n",
    "          \"index\": np.int16,\n",
    "          \"elapsed_time\": np.int32,\n",
    "          \"event_name\": 'category',\n",
    "          \"name\": 'category',\n",
    "          \"level\": np.int8,\n",
    "          \"page\": np.float16,\n",
    "          \"room_coor_x\": np.float16,\n",
    "          \"room_coor_y\": np.float16,\n",
    "          \"screen_coor_x\": np.float16,\n",
    "          \"screen_coor_y\": np.float16,\n",
    "          \"hover_duration\": np.float32,\n",
    "          \"text\": 'category',\n",
    "          \"fqid\": 'category',\n",
    "          \"room_fqid\": 'category',\n",
    "          \"text_fqid\": 'category',\n",
    "          \"fullscreen\": np.int8,\n",
    "          \"hq\": np.int8,\n",
    "          \"music\": np.int8,\n",
    "          \"level_group\": 'category'\n",
    "          }\n",
    "use_col = ['session_id', 'index', 'elapsed_time', 'event_name', 'name', 'level', 'page',\n",
    "           'room_coor_x', 'room_coor_y', 'hover_duration', 'text', 'fqid', 'room_fqid', 'text_fqid', 'level_group']"
   ]
  },
  {
   "cell_type": "code",
   "execution_count": 3,
   "id": "bd3316b9",
   "metadata": {
    "execution": {
     "iopub.execute_input": "2023-05-31T18:31:40.849793Z",
     "iopub.status.busy": "2023-05-31T18:31:40.848509Z",
     "iopub.status.idle": "2023-05-31T18:31:42.595547Z",
     "shell.execute_reply": "2023-05-31T18:31:42.594098Z"
    },
    "papermill": {
     "duration": 1.771162,
     "end_time": "2023-05-31T18:31:42.598611",
     "exception": false,
     "start_time": "2023-05-31T18:31:40.827449",
     "status": "completed"
    },
    "tags": []
   },
   "outputs": [],
   "source": [
    "targets = pd.read_csv('train_labels.csv')\n",
    "targets['session'] = targets.session_id.apply(lambda x: int(x.split('_')[0]) )\n",
    "targets['q'] = targets.session_id.apply(lambda x: int(x.split('_')[-1][1:]) )\n",
    "# print( targets.shape )\n",
    "# targets.head()"
   ]
  },
  {
   "cell_type": "code",
   "execution_count": 4,
   "id": "199ec84f",
   "metadata": {
    "execution": {
     "iopub.execute_input": "2023-05-31T18:31:42.621942Z",
     "iopub.status.busy": "2023-05-31T18:31:42.620756Z",
     "iopub.status.idle": "2023-05-31T18:31:42.859476Z",
     "shell.execute_reply": "2023-05-31T18:31:42.858127Z"
    },
    "papermill": {
     "duration": 0.254134,
     "end_time": "2023-05-31T18:31:42.862826",
     "exception": false,
     "start_time": "2023-05-31T18:31:42.608692",
     "status": "completed"
    },
    "tags": []
   },
   "outputs": [],
   "source": [
    "feature_df = pd.read_csv('feature_sort.csv')"
   ]
  },
  {
   "attachments": {},
   "cell_type": "markdown",
   "id": "adc5f48a",
   "metadata": {
    "papermill": {
     "duration": 0.009456,
     "end_time": "2023-05-31T18:31:42.882423",
     "exception": false,
     "start_time": "2023-05-31T18:31:42.872967",
     "status": "completed"
    },
    "tags": []
   },
   "source": [
    "# Feature Engineer"
   ]
  },
  {
   "cell_type": "code",
   "execution_count": 5,
   "id": "87d98e06",
   "metadata": {
    "execution": {
     "iopub.execute_input": "2023-05-31T18:31:42.905391Z",
     "iopub.status.busy": "2023-05-31T18:31:42.904024Z",
     "iopub.status.idle": "2023-05-31T18:31:42.912111Z",
     "shell.execute_reply": "2023-05-31T18:31:42.910954Z"
    },
    "papermill": {
     "duration": 0.022837,
     "end_time": "2023-05-31T18:31:42.915173",
     "exception": false,
     "start_time": "2023-05-31T18:31:42.892336",
     "status": "completed"
    },
    "tags": []
   },
   "outputs": [],
   "source": [
    "def delt_time_def(df):\n",
    "    df.sort_values(by=['session_id', 'elapsed_time'], inplace=True)\n",
    "    df['d_time'] = df['elapsed_time'].diff(1)\n",
    "    df['d_time'].fillna(0, inplace=True)\n",
    "    df['delt_time'] = df['d_time'].clip(0, 103000)\n",
    "    df['delt_time_next'] = df['delt_time'].shift(-1)\n",
    "    return df"
   ]
  },
  {
   "cell_type": "code",
   "execution_count": 6,
   "id": "938ec9e2",
   "metadata": {
    "execution": {
     "iopub.execute_input": "2023-05-31T18:31:42.938334Z",
     "iopub.status.busy": "2023-05-31T18:31:42.937511Z",
     "iopub.status.idle": "2023-05-31T18:31:42.955523Z",
     "shell.execute_reply": "2023-05-31T18:31:42.954520Z"
    },
    "papermill": {
     "duration": 0.033049,
     "end_time": "2023-05-31T18:31:42.958426",
     "exception": false,
     "start_time": "2023-05-31T18:31:42.925377",
     "status": "completed"
    },
    "tags": []
   },
   "outputs": [],
   "source": [
    "def feature_engineer(train, kol_f):\n",
    "    global kol_col, kol_col_max\n",
    "    kol_col = 9\n",
    "    kol_col_max = 11+kol_f*2\n",
    "    col = [i for i in range(0,kol_col_max)]\n",
    "    new_train = pd.DataFrame(index=train['session_id'].unique(), columns=col, dtype=np.float16)  \n",
    "    new_train[10] = new_train.index # \"session_id\"    \n",
    "\n",
    "    new_train[0] = train.groupby(['session_id'])['d_time'].quantile(q=0.3)\n",
    "    new_train[1] = train.groupby(['session_id'])['d_time'].quantile(q=0.8)\n",
    "    new_train[2] = train.groupby(['session_id'])['d_time'].quantile(q=0.5)\n",
    "    new_train[3] = train.groupby(['session_id'])['d_time'].quantile(q=0.65)\n",
    "    new_train[4] = train.groupby(['session_id'])['hover_duration'].agg('mean')\n",
    "    new_train[5] = train.groupby(['session_id'])['hover_duration'].agg('std')    \n",
    "    new_train[6] = new_train[10].apply(lambda x: int(str(x)[:2])).astype(np.uint8) # \"year\"\n",
    "    new_train[7] = new_train[10].apply(lambda x: int(str(x)[2:4])+1).astype(np.uint8) # \"month\"\n",
    "    new_train[8] = new_train[10].apply(lambda x: int(str(x)[4:6])).astype(np.uint8) # \"day\"\n",
    "    new_train[9] = new_train[10].apply(lambda x: int(str(x)[6:8])).astype(np.uint8) + new_train[10].apply(lambda x: int(str(x)[8:10])).astype(np.uint8)/60\n",
    "    new_train[10] = 0\n",
    "    new_train = new_train.fillna(-1)\n",
    "    \n",
    "    return new_train"
   ]
  },
  {
   "cell_type": "code",
   "execution_count": 7,
   "id": "3ba2bfc2",
   "metadata": {
    "execution": {
     "iopub.execute_input": "2023-05-31T18:31:42.980718Z",
     "iopub.status.busy": "2023-05-31T18:31:42.979825Z",
     "iopub.status.idle": "2023-05-31T18:31:42.992760Z",
     "shell.execute_reply": "2023-05-31T18:31:42.991574Z"
    },
    "papermill": {
     "duration": 0.027342,
     "end_time": "2023-05-31T18:31:42.995588",
     "exception": false,
     "start_time": "2023-05-31T18:31:42.968246",
     "status": "completed"
    },
    "tags": []
   },
   "outputs": [],
   "source": [
    "def feature_next_t(row_f, new_train, train, gran_1, gran_2, i):\n",
    "    global kol_col\n",
    "    kol_col +=1\n",
    "    col1 = row_f['col1']\n",
    "    val1 = row_f['val1']\n",
    "    maska = (train[col1] == val1)\n",
    "    if row_f['kol_col'] == 1:       \n",
    "        new_train[kol_col] = train[maska].groupby(['session_id'])['delt_time_next'].sum()\n",
    "        if gran_1:\n",
    "            kol_col +=1\n",
    "            new_train[kol_col] = train[maska].groupby(['session_id'])['delt_time'].mean()\n",
    "        if gran_2:\n",
    "            kol_col +=1\n",
    "            new_train[kol_col] = train[maska].groupby(['session_id'])['index'].count()          \n",
    "    elif row_f['kol_col'] == 2: \n",
    "        col2 = row_f['col2']\n",
    "        val2 = row_f['val2']\n",
    "        maska = maska & (train[col2] == val2)        \n",
    "        new_train[kol_col] = train[maska].groupby(['session_id'])['delt_time_next'].sum()\n",
    "        if gran_1:\n",
    "            kol_col +=1\n",
    "            new_train[kol_col] = train[maska].groupby(['session_id'])['delt_time'].mean()\n",
    "        if gran_2:\n",
    "            kol_col +=1\n",
    "            new_train[kol_col] = train[maska].groupby(['session_id'])['index'].count()\n",
    "    return new_train"
   ]
  },
  {
   "cell_type": "code",
   "execution_count": 8,
   "id": "74ecf4b4",
   "metadata": {
    "execution": {
     "iopub.execute_input": "2023-05-31T18:31:43.019185Z",
     "iopub.status.busy": "2023-05-31T18:31:43.018322Z",
     "iopub.status.idle": "2023-05-31T18:31:43.030019Z",
     "shell.execute_reply": "2023-05-31T18:31:43.028833Z"
    },
    "papermill": {
     "duration": 0.027716,
     "end_time": "2023-05-31T18:31:43.033284",
     "exception": false,
     "start_time": "2023-05-31T18:31:43.005568",
     "status": "completed"
    },
    "tags": []
   },
   "outputs": [],
   "source": [
    "def feature_next_t_otvet(row_f, new_train, train, gran_1, gran_2, i):\n",
    "    global kol_col\n",
    "    kol_col +=1\n",
    "    col1 = row_f['col1']\n",
    "    val1 = row_f['val1']\n",
    "    maska = (train[col1] == val1)\n",
    "    if row_f['kol_col'] == 1:      \n",
    "        new_train[kol_col] = train[maska]['delt_time_next'].sum()\n",
    "        if gran_1:\n",
    "            kol_col +=1\n",
    "            new_train[kol_col] = train[maska]['delt_time'].mean()\n",
    "        if gran_2:\n",
    "            kol_col +=1\n",
    "            new_train[kol_col] = train[maska]['index'].count()          \n",
    "    elif row_f['kol_col'] == 2: \n",
    "        col2 = row_f['col2']\n",
    "        val2 = row_f['val2']\n",
    "        maska = maska & (train[col2] == val2)        \n",
    "        new_train[kol_col] = train[maska]['delt_time_next'].sum()\n",
    "        if gran_1:\n",
    "            kol_col +=1\n",
    "            new_train[kol_col] = train[maska]['delt_time'].mean()\n",
    "        if gran_2:\n",
    "            kol_col +=1\n",
    "            new_train[kol_col] = train[maska]['index'].count()\n",
    "    return new_train"
   ]
  },
  {
   "cell_type": "code",
   "execution_count": 9,
   "id": "6134767e",
   "metadata": {
    "execution": {
     "iopub.execute_input": "2023-05-31T18:31:43.058144Z",
     "iopub.status.busy": "2023-05-31T18:31:43.057150Z",
     "iopub.status.idle": "2023-05-31T18:31:43.069001Z",
     "shell.execute_reply": "2023-05-31T18:31:43.067874Z"
    },
    "papermill": {
     "duration": 0.028475,
     "end_time": "2023-05-31T18:31:43.071949",
     "exception": false,
     "start_time": "2023-05-31T18:31:43.043474",
     "status": "completed"
    },
    "tags": []
   },
   "outputs": [],
   "source": [
    "def experiment_feature_next_t_otvet(row_f, new_train, train, gran_1, gran_2, i):\n",
    "    global kol_col\n",
    "    kol_col +=1\n",
    "    if row_f['kol_col'] == 1: \n",
    "        maska = train[row_f['col1']] == row_f['val1']\n",
    "        new_train[kol_col] = train[maska]['delt_time_next'].sum()\n",
    "        if gran_1:\n",
    "            kol_col +=1\n",
    "            new_train[kol_col] = train[maska]['delt_time'].mean()\n",
    "        if gran_2:\n",
    "            kol_col +=1\n",
    "            new_train[kol_col] = train[maska]['index'].count()          \n",
    "    elif row_f['kol_col'] == 2: \n",
    "        col2 = row_f['col2']\n",
    "        val2 = row_f['val2']\n",
    "        maska = (train[col1] == val1) & (train[col2] == val2)        \n",
    "        new_train[kol_col] = train[maska]['delt_time_next'].sum()\n",
    "        if gran_1:\n",
    "            kol_col +=1\n",
    "            new_train[kol_col] = train[maska]['delt_time'].mean()\n",
    "        if gran_2:\n",
    "            kol_col +=1\n",
    "            new_train[kol_col] = train[maska]['index'].count()\n",
    "    return new_train"
   ]
  },
  {
   "cell_type": "code",
   "execution_count": 10,
   "id": "43ea4942",
   "metadata": {
    "execution": {
     "iopub.execute_input": "2023-05-31T18:31:43.096415Z",
     "iopub.status.busy": "2023-05-31T18:31:43.095160Z",
     "iopub.status.idle": "2023-05-31T18:31:43.105338Z",
     "shell.execute_reply": "2023-05-31T18:31:43.104223Z"
    },
    "papermill": {
     "duration": 0.025045,
     "end_time": "2023-05-31T18:31:43.108427",
     "exception": false,
     "start_time": "2023-05-31T18:31:43.083382",
     "status": "completed"
    },
    "tags": []
   },
   "outputs": [],
   "source": [
    "def feature_quest_otvet(new_train, train, quest, kol_f):\n",
    "    global kol_col\n",
    "    kol_col = 9\n",
    "    g1 = 0.7 \n",
    "    g2 = 0.3 \n",
    "\n",
    "    feature_q = feature_df[feature_df['quest'] == quest].copy()\n",
    "    feature_q.reset_index(drop=True, inplace=True)\n",
    "    \n",
    "    gran1 = round(kol_f * g1)\n",
    "    gran2 = round(kol_f * g2)    \n",
    "    for i in range(0, kol_f):         \n",
    "        row_f = feature_q.loc[i]\n",
    "        new_train = feature_next_t_otvet(row_f, new_train, train, i < gran1, i <  gran2, i) \n",
    "    col = [i for i in range(0,kol_col+1)]\n",
    "    return new_train[col]"
   ]
  },
  {
   "cell_type": "code",
   "execution_count": 11,
   "id": "6cf055ec",
   "metadata": {
    "execution": {
     "iopub.execute_input": "2023-05-31T18:31:43.132384Z",
     "iopub.status.busy": "2023-05-31T18:31:43.131169Z",
     "iopub.status.idle": "2023-05-31T18:31:43.140038Z",
     "shell.execute_reply": "2023-05-31T18:31:43.138321Z"
    },
    "papermill": {
     "duration": 0.025107,
     "end_time": "2023-05-31T18:31:43.143472",
     "exception": false,
     "start_time": "2023-05-31T18:31:43.118365",
     "status": "completed"
    },
    "tags": []
   },
   "outputs": [],
   "source": [
    "def feature_engineer_new(new_train, train, feature_q, kol_f):\n",
    "    g1 = 0.7 \n",
    "    g2 = 0.3 \n",
    "    gran1 = round(kol_f * g1)\n",
    "    gran2 = round(kol_f * g2)    \n",
    "    for i in range(0, kol_f): \n",
    "        row_f = feature_q.loc[i]       \n",
    "        new_train = feature_next_t(row_f, new_train, train, i < gran1, i <  gran2, i)         \n",
    "    return new_train"
   ]
  },
  {
   "cell_type": "code",
   "execution_count": 12,
   "id": "f032f510",
   "metadata": {
    "execution": {
     "iopub.execute_input": "2023-05-31T18:31:43.165702Z",
     "iopub.status.busy": "2023-05-31T18:31:43.165227Z",
     "iopub.status.idle": "2023-05-31T18:31:43.172400Z",
     "shell.execute_reply": "2023-05-31T18:31:43.171397Z"
    },
    "papermill": {
     "duration": 0.021522,
     "end_time": "2023-05-31T18:31:43.175203",
     "exception": false,
     "start_time": "2023-05-31T18:31:43.153681",
     "status": "completed"
    },
    "tags": []
   },
   "outputs": [],
   "source": [
    "def feature_quest(new_train, train, quest, kol_f):\n",
    "    global kol_col\n",
    "    kol_col = 9\n",
    "    feature_q = feature_df[feature_df['quest'] == quest].copy()\n",
    "    feature_q.reset_index(drop=True, inplace=True)\n",
    "    new_train = feature_engineer_new(new_train, train, feature_q, kol_f)\n",
    "    col = [i for i in range(0,kol_col+1)]\n",
    "    return new_train[col]"
   ]
  },
  {
   "cell_type": "code",
   "execution_count": 13,
   "id": "0f0cf41e",
   "metadata": {
    "execution": {
     "iopub.execute_input": "2023-05-31T18:31:43.197535Z",
     "iopub.status.busy": "2023-05-31T18:31:43.196690Z",
     "iopub.status.idle": "2023-05-31T18:31:43.206902Z",
     "shell.execute_reply": "2023-05-31T18:31:43.205928Z"
    },
    "papermill": {
     "duration": 0.024551,
     "end_time": "2023-05-31T18:31:43.209726",
     "exception": false,
     "start_time": "2023-05-31T18:31:43.185175",
     "status": "completed"
    },
    "tags": []
   },
   "outputs": [],
   "source": [
    "def create_model(old_train, quests, models, list_kol_f):\n",
    "    \n",
    "    kol_quest = len(quests)\n",
    "    # ITERATE THRU QUESTIONS\n",
    "    for q in quests:\n",
    "        print('### quest ', q, end='')\n",
    "        new_train = feature_engineer(old_train, list_kol_f[q])\n",
    "        train_x = feature_quest(new_train, old_train, q, list_kol_f[q])\n",
    "        print (' ---- ', 'train_q.shape = ', train_x.shape)\n",
    "           \n",
    "        # TRAIN DATA\n",
    "        train_users = train_x.index.values\n",
    "        train_y = targets.loc[targets.q==q].set_index('session').loc[train_users]\n",
    "\n",
    "        # TRAIN MODEL \n",
    "\n",
    "        model = CatBoostClassifier(\n",
    "            n_estimators = 300,\n",
    "            learning_rate= 0.045,\n",
    "            depth = 6\n",
    "        )\n",
    "        \n",
    "        model.fit(train_x.astype('float32'), train_y['correct'], verbose=False)\n",
    "\n",
    "        # SAVE MODEL, PREDICT VALID OOF\n",
    "        models[f'{q}'] = model\n",
    "    print('***')\n",
    "    \n",
    "    return models"
   ]
  },
  {
   "cell_type": "code",
   "execution_count": 14,
   "id": "5af85192",
   "metadata": {
    "execution": {
     "iopub.execute_input": "2023-05-31T18:31:43.231824Z",
     "iopub.status.busy": "2023-05-31T18:31:43.231012Z",
     "iopub.status.idle": "2023-05-31T18:31:43.235608Z",
     "shell.execute_reply": "2023-05-31T18:31:43.234690Z"
    },
    "papermill": {
     "duration": 0.018359,
     "end_time": "2023-05-31T18:31:43.238110",
     "exception": false,
     "start_time": "2023-05-31T18:31:43.219751",
     "status": "completed"
    },
    "tags": []
   },
   "outputs": [],
   "source": [
    "models = {}\n",
    "best_threshold = 0.63"
   ]
  },
  {
   "cell_type": "code",
   "execution_count": 15,
   "id": "21066ab2",
   "metadata": {
    "execution": {
     "iopub.execute_input": "2023-05-31T18:31:43.260007Z",
     "iopub.status.busy": "2023-05-31T18:31:43.259160Z",
     "iopub.status.idle": "2023-05-31T18:31:43.265392Z",
     "shell.execute_reply": "2023-05-31T18:31:43.264371Z"
    },
    "papermill": {
     "duration": 0.020552,
     "end_time": "2023-05-31T18:31:43.268405",
     "exception": false,
     "start_time": "2023-05-31T18:31:43.247853",
     "status": "completed"
    },
    "tags": []
   },
   "outputs": [],
   "source": [
    "list_kol_f = {\n",
    "    1:140,3:110,\n",
    "    4:110, 5:220, 6:120, 7:110, 8:110, 9:100, 10:120, 11:120,\n",
    "    14: 110, 15:160, 16:105, 17:140             \n",
    "             }"
   ]
  },
  {
   "cell_type": "code",
   "execution_count": 16,
   "id": "88bdf55a",
   "metadata": {
    "execution": {
     "iopub.execute_input": "2023-05-31T18:31:43.290639Z",
     "iopub.status.busy": "2023-05-31T18:31:43.289772Z",
     "iopub.status.idle": "2023-05-31T18:33:14.163818Z",
     "shell.execute_reply": "2023-05-31T18:33:14.162386Z"
    },
    "papermill": {
     "duration": 90.888207,
     "end_time": "2023-05-31T18:33:14.166611",
     "exception": false,
     "start_time": "2023-05-31T18:31:43.278404",
     "status": "completed"
    },
    "tags": []
   },
   "outputs": [
    {
     "name": "stdout",
     "output_type": "stream",
     "text": [
      "### quest  1 ----  train_q.shape =  (23562, 290)\n",
      "### quest  3 ----  train_q.shape =  (23562, 230)\n",
      "***\n"
     ]
    }
   ],
   "source": [
    "df0_4 = pd.read_csv('train_0_4t.csv', dtype=dtypes) \n",
    "kol_lvl = (df0_4 .groupby(['session_id'])['level'].agg('nunique') < 5)\n",
    "list_session = kol_lvl[kol_lvl].index\n",
    "df0_4  = df0_4 [~df0_4 ['session_id'].isin(list_session)]\n",
    "df0_4 = delt_time_def(df0_4)\n",
    "\n",
    "quests_0_4 = [1, 3] \n",
    "# list_kol_f = {1:140,3:110}\n",
    "\n",
    "models = create_model(df0_4, quests_0_4, models, list_kol_f)\n",
    "del df0_4"
   ]
  },
  {
   "cell_type": "code",
   "execution_count": 17,
   "id": "05073bd0",
   "metadata": {
    "execution": {
     "iopub.execute_input": "2023-05-31T18:33:14.191136Z",
     "iopub.status.busy": "2023-05-31T18:33:14.190292Z",
     "iopub.status.idle": "2023-05-31T18:40:49.498452Z",
     "shell.execute_reply": "2023-05-31T18:40:49.497226Z"
    },
    "papermill": {
     "duration": 455.335328,
     "end_time": "2023-05-31T18:40:49.512306",
     "exception": false,
     "start_time": "2023-05-31T18:33:14.176978",
     "status": "completed"
    },
    "tags": []
   },
   "outputs": [
    {
     "name": "stdout",
     "output_type": "stream",
     "text": [
      "### quest  4 ----  train_q.shape =  (23561, 230)\n",
      "### quest  5 ----  train_q.shape =  (23561, 450)\n",
      "### quest  6 ----  train_q.shape =  (23561, 250)\n",
      "### quest  7 ----  train_q.shape =  (23561, 230)\n",
      "### quest  8 ----  train_q.shape =  (23561, 230)\n",
      "### quest  9 ----  train_q.shape =  (23561, 210)\n",
      "### quest  10 ----  train_q.shape =  (23561, 250)\n",
      "### quest  11 ----  train_q.shape =  (23561, 250)\n",
      "***\n"
     ]
    }
   ],
   "source": [
    "df5_12 = pd.read_csv('train_5_12t.csv', dtype=dtypes)\n",
    "kol_lvl = (df5_12.groupby(['session_id'])['level'].agg('nunique') < 8)\n",
    "list_session = kol_lvl[kol_lvl].index\n",
    "df5_12 = df5_12[~df5_12['session_id'].isin(list_session)]\n",
    "df5_12 = delt_time_def(df5_12)\n",
    "quests_5_12 = [4, 5, 6, 7, 8, 9, 10, 11] \n",
    "\n",
    "# list_kol_f = {4:110, 5:220, 6:120, 7:110, 8:110, 9:100, 10:120, 11:120}\n",
    "\n",
    "models = create_model(df5_12, quests_5_12, models, list_kol_f)\n",
    "del df5_12"
   ]
  },
  {
   "cell_type": "code",
   "execution_count": 19,
   "id": "cfeed8b5",
   "metadata": {
    "execution": {
     "iopub.execute_input": "2023-05-31T18:40:49.539851Z",
     "iopub.status.busy": "2023-05-31T18:40:49.537407Z",
     "iopub.status.idle": "2023-05-31T18:45:54.942687Z",
     "shell.execute_reply": "2023-05-31T18:45:54.941534Z"
    },
    "papermill": {
     "duration": 305.421221,
     "end_time": "2023-05-31T18:45:54.945306",
     "exception": false,
     "start_time": "2023-05-31T18:40:49.524085",
     "status": "completed"
    },
    "tags": []
   },
   "outputs": [
    {
     "name": "stdout",
     "output_type": "stream",
     "text": [
      "### quest  14 ----  train_q.shape =  (22986, 230)\n",
      "### quest  15 ----  train_q.shape =  (22986, 330)\n",
      "### quest  16 ----  train_q.shape =  (22986, 221)\n",
      "### quest  17 ----  train_q.shape =  (22986, 290)\n",
      "***\n"
     ]
    }
   ],
   "source": [
    "df13_22 = pd.read_csv('train_13_22t.csv', dtype=dtypes) \n",
    "kol_lvl = (df13_22 .groupby(['session_id'])['level'].agg('nunique') < 10)\n",
    "list_session = kol_lvl[kol_lvl].index\n",
    "df13_22  = df13_22 [~df13_22 ['session_id'].isin(list_session)]\n",
    "df13_22 = delt_time_def(df13_22)\n",
    "\n",
    "quests_13_22 = [14, 15, 16, 17] \n",
    "# list_kol_f = {14: 110, 15:160, 16:105, 17:140}\n",
    "\n",
    "models = create_model(df13_22, quests_13_22, models, list_kol_f)\n"
   ]
  },
  {
   "cell_type": "code",
   "execution_count": 20,
   "id": "5b32ab23",
   "metadata": {},
   "outputs": [
    {
     "data": {
      "text/plain": [
       "'c:\\\\alpaco\\\\Kaggle\\\\GameML'"
      ]
     },
     "execution_count": 20,
     "metadata": {},
     "output_type": "execute_result"
    }
   ],
   "source": [
    "pwd"
   ]
  },
  {
   "cell_type": "code",
   "execution_count": 22,
   "id": "0a1af02a",
   "metadata": {},
   "outputs": [
    {
     "data": {
      "text/plain": [
       "dict_keys(['1', '3', '4', '5', '6', '7', '8', '9', '10', '11', '14', '15', '16', '17'])"
      ]
     },
     "execution_count": 22,
     "metadata": {},
     "output_type": "execute_result"
    }
   ],
   "source": [
    "models.keys()"
   ]
  },
  {
   "cell_type": "code",
   "execution_count": 24,
   "id": "6d8caea6",
   "metadata": {
    "execution": {
     "iopub.execute_input": "2023-05-31T18:45:54.973120Z",
     "iopub.status.busy": "2023-05-31T18:45:54.971841Z",
     "iopub.status.idle": "2023-05-31T18:45:54.977172Z",
     "shell.execute_reply": "2023-05-31T18:45:54.976194Z"
    },
    "papermill": {
     "duration": 0.021971,
     "end_time": "2023-05-31T18:45:54.979743",
     "exception": false,
     "start_time": "2023-05-31T18:45:54.957772",
     "status": "completed"
    },
    "tags": []
   },
   "outputs": [],
   "source": [
    "# Saving a Model\n",
    "for q in quests_0_4 + quests_5_12 + quests_13_22:\n",
    "    models[str(q)].save_model(f'cat_model_{q}.cbm')"
   ]
  },
  {
   "cell_type": "code",
   "execution_count": null,
   "id": "0a606ad0",
   "metadata": {},
   "outputs": [],
   "source": []
  },
  {
   "cell_type": "code",
   "execution_count": null,
   "id": "56503bcc",
   "metadata": {},
   "outputs": [],
   "source": []
  },
  {
   "cell_type": "code",
   "execution_count": null,
   "id": "14c553d4",
   "metadata": {},
   "outputs": [],
   "source": []
  },
  {
   "cell_type": "code",
   "execution_count": null,
   "id": "22a8cbb3",
   "metadata": {},
   "outputs": [],
   "source": []
  },
  {
   "cell_type": "code",
   "execution_count": null,
   "id": "7c7dd775",
   "metadata": {},
   "outputs": [],
   "source": []
  },
  {
   "cell_type": "code",
   "execution_count": 20,
   "id": "e4b13f88",
   "metadata": {
    "execution": {
     "iopub.execute_input": "2023-05-31T18:45:55.007861Z",
     "iopub.status.busy": "2023-05-31T18:45:55.006559Z",
     "iopub.status.idle": "2023-05-31T18:45:55.012573Z",
     "shell.execute_reply": "2023-05-31T18:45:55.011008Z"
    },
    "papermill": {
     "duration": 0.023767,
     "end_time": "2023-05-31T18:45:55.015882",
     "exception": false,
     "start_time": "2023-05-31T18:45:54.992115",
     "status": "completed"
    },
    "tags": []
   },
   "outputs": [],
   "source": [
    "# # Model Reading\n",
    "# dir = '/kaggle/input/catbust/'\n",
    "# for q in quests_0_4 + quests_5_12 + quests_13_22:\n",
    "#     models[q] = CatBoostClassifier().load_model(dir+f'cat_model_{q}.bin')"
   ]
  },
  {
   "attachments": {},
   "cell_type": "markdown",
   "id": "72a848c8",
   "metadata": {
    "papermill": {
     "duration": 0.012139,
     "end_time": "2023-05-31T18:45:55.041012",
     "exception": false,
     "start_time": "2023-05-31T18:45:55.028873",
     "status": "completed"
    },
    "tags": []
   },
   "source": [
    "**Infer Test Data**"
   ]
  },
  {
   "cell_type": "code",
   "execution_count": 18,
   "id": "b0263106",
   "metadata": {
    "execution": {
     "iopub.execute_input": "2023-05-31T18:45:55.068903Z",
     "iopub.status.busy": "2023-05-31T18:45:55.067503Z",
     "iopub.status.idle": "2023-05-31T18:45:55.101105Z",
     "shell.execute_reply": "2023-05-31T18:45:55.099289Z"
    },
    "papermill": {
     "duration": 0.050944,
     "end_time": "2023-05-31T18:45:55.104468",
     "exception": false,
     "start_time": "2023-05-31T18:45:55.053524",
     "status": "completed"
    },
    "tags": []
   },
   "outputs": [
    {
     "ename": "ModuleNotFoundError",
     "evalue": "No module named 'jo_wilder'",
     "output_type": "error",
     "traceback": [
      "\u001b[1;31m---------------------------------------------------------------------------\u001b[0m",
      "\u001b[1;31mModuleNotFoundError\u001b[0m                       Traceback (most recent call last)",
      "Cell \u001b[1;32mIn[18], line 1\u001b[0m\n\u001b[1;32m----> 1\u001b[0m \u001b[39mimport\u001b[39;00m \u001b[39mjo_wilder\u001b[39;00m\n\u001b[0;32m      3\u001b[0m \u001b[39mtry\u001b[39;00m:\n\u001b[0;32m      4\u001b[0m     jo_wilder\u001b[39m.\u001b[39mmake_env\u001b[39m.\u001b[39m__called__ \u001b[39m=\u001b[39m \u001b[39mFalse\u001b[39;00m\n",
      "\u001b[1;31mModuleNotFoundError\u001b[0m: No module named 'jo_wilder'"
     ]
    }
   ],
   "source": [
    "# import jo_wilder\n",
    "\n",
    "# try:\n",
    "#     jo_wilder.make_env.__called__ = False\n",
    "#     env.__called__ = False\n",
    "#     type(env)._state = type(type(env)._state).__dict__['INIT']\n",
    "# except:\n",
    "#     pass\n",
    "\n",
    "# env = jo_wilder.make_env()\n",
    "# iter_test = env.iter_test()    "
   ]
  },
  {
   "cell_type": "code",
   "execution_count": 22,
   "id": "0f9244c5",
   "metadata": {
    "execution": {
     "iopub.execute_input": "2023-05-31T18:45:55.132713Z",
     "iopub.status.busy": "2023-05-31T18:45:55.131877Z",
     "iopub.status.idle": "2023-05-31T18:45:55.136628Z",
     "shell.execute_reply": "2023-05-31T18:45:55.135642Z"
    },
    "papermill": {
     "duration": 0.021746,
     "end_time": "2023-05-31T18:45:55.139346",
     "exception": false,
     "start_time": "2023-05-31T18:45:55.117600",
     "status": "completed"
    },
    "tags": []
   },
   "outputs": [],
   "source": [
    "# import time"
   ]
  },
  {
   "cell_type": "code",
   "execution_count": 23,
   "id": "5c6ac52c",
   "metadata": {
    "execution": {
     "iopub.execute_input": "2023-05-31T18:45:55.170154Z",
     "iopub.status.busy": "2023-05-31T18:45:55.169296Z",
     "iopub.status.idle": "2023-05-31T18:46:07.717383Z",
     "shell.execute_reply": "2023-05-31T18:46:07.716256Z"
    },
    "papermill": {
     "duration": 12.566261,
     "end_time": "2023-05-31T18:46:07.720339",
     "exception": false,
     "start_time": "2023-05-31T18:45:55.154078",
     "status": "completed"
    },
    "tags": []
   },
   "outputs": [
    {
     "name": "stdout",
     "output_type": "stream",
     "text": [
      "This version of the API is not optimized and should not be used to estimate the runtime of your code on the hidden test set.\n"
     ]
    }
   ],
   "source": [
    "# g_end4 = 0\n",
    "# g_end5 = 0\n",
    "\n",
    "# list_q = {'0-4':quests_0_4, '5-12':quests_5_12, '13-22':quests_13_22}\n",
    "# for (test, sam_sub) in iter_test:\n",
    "#     sam_sub['question'] = [int(label.split('_')[1][1:]) for label in sam_sub['session_id']]    \n",
    "#     grp = test.level_group.values[0]   \n",
    "#     sam_sub['correct'] = 1\n",
    "#     sam_sub.loc[sam_sub.question.isin([5, 8, 10, 13, 15]), 'correct'] = 0  \n",
    "#     old_train = delt_time_def(test[test.level_group == grp])\n",
    "       \n",
    "#     for q in list_q[grp]:\n",
    "        \n",
    "#         start4 = time.time()\n",
    "#         new_train = feature_engineer(old_train, list_kol_f[q])\n",
    "#         new_train = feature_quest_otvet(new_train, old_train, q, list_kol_f[q])\n",
    "# #         new_train = feature_quest(new_train, old_train, q, kol_f)\n",
    "        \n",
    "#         end4 = time.time() - start4\n",
    "#         g_end4 += end4\n",
    "        \n",
    "#         start5 = time.time()        \n",
    "        \n",
    "#         clf = models[f'{q}']\n",
    "#         p = clf.predict_proba(new_train.astype('float32'))[:,1]        \n",
    "        \n",
    "#         end5 = time.time() - start5\n",
    "#         g_end5 += end5\n",
    "             \n",
    "        \n",
    "#         mask = sam_sub.question == q \n",
    "#         x = int(p[0]>best_threshold)\n",
    "#         sam_sub.loc[mask,'correct'] = x      \n",
    "        \n",
    "        \n",
    "#     sam_sub = sam_sub[['session_id', 'correct']]      \n",
    "#     env.predict(sam_sub)"
   ]
  },
  {
   "attachments": {},
   "cell_type": "markdown",
   "id": "10a86fe6",
   "metadata": {
    "papermill": {
     "duration": 0.014105,
     "end_time": "2023-05-31T18:46:07.748020",
     "exception": false,
     "start_time": "2023-05-31T18:46:07.733915",
     "status": "completed"
    },
    "tags": []
   },
   "source": [
    "# EDA submission.csv"
   ]
  },
  {
   "cell_type": "code",
   "execution_count": 24,
   "id": "c1b99f4f",
   "metadata": {
    "execution": {
     "iopub.execute_input": "2023-05-31T18:46:07.776008Z",
     "iopub.status.busy": "2023-05-31T18:46:07.774910Z",
     "iopub.status.idle": "2023-05-31T18:46:07.780085Z",
     "shell.execute_reply": "2023-05-31T18:46:07.779011Z"
    },
    "papermill": {
     "duration": 0.022391,
     "end_time": "2023-05-31T18:46:07.783048",
     "exception": false,
     "start_time": "2023-05-31T18:46:07.760657",
     "status": "completed"
    },
    "tags": []
   },
   "outputs": [],
   "source": [
    "# df = pd.read_csv('submission.csv')\n",
    "# print( df.shape )\n",
    "# df.head(60)"
   ]
  }
 ],
 "metadata": {
  "kernelspec": {
   "display_name": "Python 3",
   "language": "python",
   "name": "python3"
  },
  "language_info": {
   "codemirror_mode": {
    "name": "ipython",
    "version": 3
   },
   "file_extension": ".py",
   "mimetype": "text/x-python",
   "name": "python",
   "nbconvert_exporter": "python",
   "pygments_lexer": "ipython3",
   "version": "3.9.16"
  },
  "papermill": {
   "default_parameters": {},
   "duration": 885.024352,
   "end_time": "2023-05-31T18:46:08.724355",
   "environment_variables": {},
   "exception": null,
   "input_path": "__notebook__.ipynb",
   "output_path": "__notebook__.ipynb",
   "parameters": {},
   "start_time": "2023-05-31T18:31:23.700003",
   "version": "2.4.0"
  }
 },
 "nbformat": 4,
 "nbformat_minor": 5
}
