{
 "cells": [
  {
   "cell_type": "code",
   "execution_count": 1,
   "metadata": {
    "_cell_guid": "b1076dfc-b9ad-4769-8c92-a6c4dae69d19",
    "_uuid": "8f2839f25d086af736a60e9eeb907d3b93b6e0e5",
    "execution": {
     "iopub.execute_input": "2021-02-07T15:44:07.667716Z",
     "iopub.status.busy": "2021-02-07T15:44:07.667031Z",
     "iopub.status.idle": "2021-02-07T15:44:07.751989Z",
     "shell.execute_reply": "2021-02-07T15:44:07.752450Z"
    },
    "papermill": {
     "duration": 0.104108,
     "end_time": "2021-02-07T15:44:07.752586",
     "exception": false,
     "start_time": "2021-02-07T15:44:07.648478",
     "status": "completed"
    },
    "tags": []
   },
   "outputs": [
    {
     "name": "stdout",
     "output_type": "stream",
     "text": [
      "/kaggle/input/tabular-playground-series-jan-2021/sample_submission.csv\n",
      "/kaggle/input/tabular-playground-series-jan-2021/train.csv\n",
      "/kaggle/input/tabular-playground-series-jan-2021/test.csv\n"
     ]
    }
   ],
   "source": [
    "# This Python 3 environment comes with many helpful analytics libraries installed\n",
    "# It is defined by the kaggle/python Docker image: https://github.com/kaggle/docker-python\n",
    "# For example, here's several helpful packages to load\n",
    "\n",
    "import numpy as np # linear algebra\n",
    "import pandas as pd # data processing, CSV file I/O (e.g. pd.read_csv)\n",
    "import matplotlib.pyplot as plt \n",
    "import joblib\n",
    "\n",
    "%matplotlib inline\n",
    "# Input data files are available in the read-only \"../input/\" directory\n",
    "# For example, running this (by clicking run or pressing Shift+Enter) will list all files under the input directory\n",
    "\n",
    "import os\n",
    "for dirname, _, filenames in os.walk('/kaggle/input'):\n",
    "    for filename in filenames:\n",
    "        print(os.path.join(dirname, filename))\n",
    "\n",
    "# You can write up to 20GB to the current directory (/kaggle/working/) that gets preserved as output when you create a version using \"Save & Run All\" \n",
    "# You can also write temporary files to /kaggle/temp/, but they won't be saved outside of the current session"
   ]
  },
  {
   "cell_type": "code",
   "execution_count": 2,
   "metadata": {
    "_cell_guid": "79c7e3d0-c299-4dcb-8224-4455121ee9b0",
    "_uuid": "d629ff2d2480ee46fbb7e2d37f6b5fab8052498a",
    "execution": {
     "iopub.execute_input": "2021-02-07T15:44:07.778284Z",
     "iopub.status.busy": "2021-02-07T15:44:07.777711Z",
     "iopub.status.idle": "2021-02-07T15:44:10.808180Z",
     "shell.execute_reply": "2021-02-07T15:44:10.807150Z"
    },
    "papermill": {
     "duration": 3.045852,
     "end_time": "2021-02-07T15:44:10.808290",
     "exception": false,
     "start_time": "2021-02-07T15:44:07.762438",
     "status": "completed"
    },
    "tags": []
   },
   "outputs": [],
   "source": [
    "train_df = pd.read_csv(\"/kaggle/input/tabular-playground-series-jan-2021/train.csv\", index_col=[\"id\"])\n",
    "test_df = pd.read_csv(\"/kaggle/input/tabular-playground-series-jan-2021/test.csv\", index_col=[\"id\"])\n",
    "\n",
    "X = train_df.iloc[:, :-1].to_numpy()\n",
    "y = train_df.iloc[:, -1].to_numpy()\n",
    "X_test = test_df.to_numpy()"
   ]
  },
  {
   "cell_type": "code",
   "execution_count": 3,
   "metadata": {
    "execution": {
     "iopub.execute_input": "2021-02-07T15:44:10.834201Z",
     "iopub.status.busy": "2021-02-07T15:44:10.833004Z",
     "iopub.status.idle": "2021-02-07T15:44:10.983680Z",
     "shell.execute_reply": "2021-02-07T15:44:10.984105Z"
    },
    "papermill": {
     "duration": 0.165488,
     "end_time": "2021-02-07T15:44:10.984226",
     "exception": false,
     "start_time": "2021-02-07T15:44:10.818738",
     "status": "completed"
    },
    "tags": []
   },
   "outputs": [
    {
     "data": {
      "text/plain": [
       "cont1    -0.032994\n",
       "cont10   -0.021143\n",
       "cont9    -0.013029\n",
       "cont13   -0.006642\n",
       "cont14   -0.006609\n",
       "cont5    -0.005358\n",
       "cont4     0.005522\n",
       "cont8     0.014698\n",
       "cont6     0.027955\n",
       "cont12    0.047809\n",
       "cont11    0.050996\n",
       "cont3     0.058936\n",
       "cont2     0.067102\n",
       "cont7     0.067234\n",
       "Name: target, dtype: float64"
      ]
     },
     "execution_count": 3,
     "metadata": {},
     "output_type": "execute_result"
    }
   ],
   "source": [
    "corr=train_df.corr()[\"target\"]\n",
    "corr[np.argsort(corr, axis=0)[:-1]]"
   ]
  },
  {
   "cell_type": "code",
   "execution_count": 4,
   "metadata": {
    "execution": {
     "iopub.execute_input": "2021-02-07T15:44:11.013215Z",
     "iopub.status.busy": "2021-02-07T15:44:11.012676Z",
     "iopub.status.idle": "2021-02-07T15:44:16.596314Z",
     "shell.execute_reply": "2021-02-07T15:44:16.595314Z"
    },
    "papermill": {
     "duration": 5.602495,
     "end_time": "2021-02-07T15:44:16.596468",
     "exception": false,
     "start_time": "2021-02-07T15:44:10.993973",
     "status": "completed"
    },
    "tags": []
   },
   "outputs": [
    {
     "data": {
      "text/html": [
       "<style type='text/css'>\n",
       ".datatable table.frame { margin-bottom: 0; }\n",
       ".datatable table.frame thead { border-bottom: none; }\n",
       ".datatable table.frame tr.coltypes td {  color: #FFFFFF;  line-height: 6px;  padding: 0 0.5em;}\n",
       ".datatable .bool    { background: #DDDD99; }\n",
       ".datatable .object  { background: #565656; }\n",
       ".datatable .int     { background: #5D9E5D; }\n",
       ".datatable .float   { background: #4040CC; }\n",
       ".datatable .str     { background: #CC4040; }\n",
       ".datatable .row_index {  background: var(--jp-border-color3);  border-right: 1px solid var(--jp-border-color0);  color: var(--jp-ui-font-color3);  font-size: 9px;}\n",
       ".datatable .frame tr.coltypes .row_index {  background: var(--jp-border-color0);}\n",
       ".datatable th:nth-child(2) { padding-left: 12px; }\n",
       ".datatable .hellipsis {  color: var(--jp-cell-editor-border-color);}\n",
       ".datatable .vellipsis {  background: var(--jp-layout-color0);  color: var(--jp-cell-editor-border-color);}\n",
       ".datatable .na {  color: var(--jp-cell-editor-border-color);  font-size: 80%;}\n",
       ".datatable .footer { font-size: 9px; }\n",
       ".datatable .frame_dimensions {  background: var(--jp-border-color3);  border-top: 1px solid var(--jp-border-color0);  color: var(--jp-ui-font-color3);  display: inline-block;  opacity: 0.6;  padding: 1px 10px 1px 5px;}\n",
       "</style>\n"
      ],
      "text/plain": [
       "<IPython.core.display.HTML object>"
      ]
     },
     "metadata": {},
     "output_type": "display_data"
    }
   ],
   "source": [
    "from sklearn.model_selection import train_test_split\n",
    "from sklearn.experimental import enable_hist_gradient_boosting\n",
    "from sklearn.ensemble import AdaBoostRegressor,  HistGradientBoostingRegressor, StackingRegressor, RandomForestRegressor\n",
    "from sklearn.metrics import mean_squared_error\n",
    "from sklearn.model_selection import KFold\n",
    "from sklearn.neural_network import MLPRegressor\n",
    "from sklearn.linear_model import SGDRegressor\n",
    "\n",
    "import xgboost as xgb\n",
    "\n",
    "from lightgbm import LGBMRegressor\n",
    "from xgboost import XGBRegressor\n",
    "from catboost import CatBoostRegressor\n",
    "\n",
    "import optuna \n",
    "from optuna import Trial, visualization\n",
    "from optuna.samplers import TPESampler\n",
    "\n",
    "# optuna.logging.set_verbosity(optuna.logging.WARNING)\n",
    "\n",
    "def train(model):\n",
    "    X_train, X_test, y_train, y_test = train_test_split(X, y.flatten(), test_size=0.1, random_state=156)\n",
    "    y_train = y_train.reshape(-1, 1)\n",
    "    y_test  = y_test.reshape(-1, 1)\n",
    "        \n",
    "    model = model.fit(X_train, y_train, early_stopping_rounds=100, verbose=False, eval_set=[(X_test, y_test)])\n",
    "    score = mean_squared_error(model.predict(X_train), y_train, squared=False)\n",
    "    print(score)\n",
    "    return model"
   ]
  },
  {
   "attachments": {},
   "cell_type": "markdown",
   "metadata": {
    "papermill": {
     "duration": 0.010026,
     "end_time": "2021-02-07T15:44:16.617088",
     "exception": false,
     "start_time": "2021-02-07T15:44:16.607062",
     "status": "completed"
    },
    "tags": []
   },
   "source": [
    "Integer parameter : A uniform distribution on integers.  \n",
    "```n_estimators = trial.suggest_int('n_estimators',100,500)```\n",
    "\n",
    "Categorical parameter : A categorical distribution.  \n",
    "```criterion = trial.suggest_categorical('criterion' ,['gini', 'entropy'])```\n",
    "\n",
    "Uniform parameter : A uniform distribution in linear domain.  \n",
    "```subsample = trial.suggest_uniform('subsample' ,0.2,0.8)```\n",
    "\n",
    "Discrete-uniform parameter : A discretized uniform distribution in linear domain.  \n",
    "```max_features = trial.suggest_discrete_uniform('max_features', 0.05,1,0.05)```\n",
    "\n",
    "Loguniform parameter : A uniform distribution in log domain.  **\n",
    "```learning_rate = trial.sugget_loguniform('learning_rate' : 1e-6, 1e-3)```"
   ]
  },
  {
   "cell_type": "code",
   "execution_count": 5,
   "metadata": {
    "execution": {
     "iopub.execute_input": "2021-02-07T15:44:16.654537Z",
     "iopub.status.busy": "2021-02-07T15:44:16.652949Z",
     "iopub.status.idle": "2021-02-07T15:44:16.655587Z",
     "shell.execute_reply": "2021-02-07T15:44:16.656016Z"
    },
    "papermill": {
     "duration": 0.028956,
     "end_time": "2021-02-07T15:44:16.656119",
     "exception": false,
     "start_time": "2021-02-07T15:44:16.627163",
     "status": "completed"
    },
    "tags": []
   },
   "outputs": [],
   "source": [
    "def objectiveXGB(trial: Trial, X, y, test):\n",
    "    param = {\n",
    "        \"n_estimators\" : trial.suggest_int('n_estimators', 500, 4000),\n",
    "        'max_depth':trial.suggest_int('max_depth', 8, 16),\n",
    "        'min_child_weight':trial.suggest_int('min_child_weight', 1, 300),\n",
    "        'gamma':trial.suggest_int('gamma', 1, 3),\n",
    "        'learning_rate': 0.01,\n",
    "        'colsample_bytree':trial.suggest_discrete_uniform('colsample_bytree',0.5, 1, 0.1),\n",
    "        'nthread' : -1,\n",
    "        'tree_method': 'gpu_hist',\n",
    "        'predictor': 'gpu_predictor',\n",
    "        'lambda': trial.suggest_loguniform('lambda', 1e-3, 10.0),\n",
    "        'alpha': trial.suggest_loguniform('alpha', 1e-3, 10.0),\n",
    "        'subsample': trial.suggest_categorical('subsample', [0.6,0.7,0.8,1.0] ),\n",
    "        'random_state': 42\n",
    "    }\n",
    "    X_train, X_test, y_train, y_test = train_test_split(X, y.flatten(), test_size=0.1)\n",
    "    \n",
    "    y_train = y_train.reshape(-1, 1)\n",
    "    y_test  = y_test.reshape(-1, 1)\n",
    "\n",
    "    model = xgb.XGBRegressor(**param)\n",
    "    xgb_model = model.fit(X_train, y_train, verbose=False, eval_set=[(X_test, y_test)])\n",
    "    score = mean_squared_error(xgb_model.predict(X_test), y_test, squared=False)\n",
    "\n",
    "    return score"
   ]
  },
  {
   "cell_type": "code",
   "execution_count": 6,
   "metadata": {
    "execution": {
     "iopub.execute_input": "2021-02-07T15:44:16.684966Z",
     "iopub.status.busy": "2021-02-07T15:44:16.684332Z",
     "iopub.status.idle": "2021-02-07T16:09:04.227582Z",
     "shell.execute_reply": "2021-02-07T16:09:04.228202Z"
    },
    "papermill": {
     "duration": 1487.561762,
     "end_time": "2021-02-07T16:09:04.228375",
     "exception": false,
     "start_time": "2021-02-07T15:44:16.666613",
     "status": "completed"
    },
    "tags": []
   },
   "outputs": [
    {
     "name": "stderr",
     "output_type": "stream",
     "text": [
      "\u001b[32m[I 2021-02-07 15:44:16,682]\u001b[0m A new study created in memory with name: no-name-08bf5501-5a69-4fd5-bfdb-009ec6b29213\u001b[0m\n",
      "\u001b[32m[I 2021-02-07 15:44:52,640]\u001b[0m Trial 0 finished with value: 0.693691255506636 and parameters: {'n_estimators': 3846, 'max_depth': 16, 'min_child_weight': 157, 'gamma': 2, 'colsample_bytree': 1.0, 'lambda': 0.24521056739875963, 'alpha': 0.5428595383381792, 'subsample': 0.7}. Best is trial 0 with value: 0.693691255506636.\u001b[0m\n",
      "\u001b[32m[I 2021-02-07 15:45:48,783]\u001b[0m Trial 1 finished with value: 0.6990533270885269 and parameters: {'n_estimators': 1131, 'max_depth': 15, 'min_child_weight': 16, 'gamma': 3, 'colsample_bytree': 0.5, 'lambda': 0.0011551057380896547, 'alpha': 1.0457251115727864, 'subsample': 0.8}. Best is trial 0 with value: 0.693691255506636.\u001b[0m\n",
      "\u001b[32m[I 2021-02-07 15:46:02,769]\u001b[0m Trial 2 finished with value: 0.6982767889631524 and parameters: {'n_estimators': 1073, 'max_depth': 10, 'min_child_weight': 268, 'gamma': 1, 'colsample_bytree': 0.6, 'lambda': 0.0015117034143666643, 'alpha': 0.039131704958971274, 'subsample': 0.8}. Best is trial 0 with value: 0.693691255506636.\u001b[0m\n",
      "\u001b[32m[I 2021-02-07 15:46:19,307]\u001b[0m Trial 3 finished with value: 0.693730457977652 and parameters: {'n_estimators': 3695, 'max_depth': 12, 'min_child_weight': 152, 'gamma': 3, 'colsample_bytree': 1.0, 'lambda': 0.0363340485484738, 'alpha': 0.04116465114369745, 'subsample': 0.6}. Best is trial 0 with value: 0.693691255506636.\u001b[0m\n",
      "\u001b[32m[I 2021-02-07 15:46:35,582]\u001b[0m Trial 4 finished with value: 0.6953819260357933 and parameters: {'n_estimators': 1127, 'max_depth': 12, 'min_child_weight': 290, 'gamma': 1, 'colsample_bytree': 0.6, 'lambda': 0.640447348844493, 'alpha': 0.7942428086471536, 'subsample': 0.6}. Best is trial 0 with value: 0.693691255506636.\u001b[0m\n",
      "\u001b[32m[I 2021-02-07 15:47:09,230]\u001b[0m Trial 5 finished with value: 0.6982927717408353 and parameters: {'n_estimators': 3903, 'max_depth': 14, 'min_child_weight': 25, 'gamma': 3, 'colsample_bytree': 0.8, 'lambda': 0.6065184757256497, 'alpha': 9.17652705717672, 'subsample': 0.6}. Best is trial 0 with value: 0.693691255506636.\u001b[0m\n",
      "\u001b[32m[I 2021-02-07 15:47:37,767]\u001b[0m Trial 6 finished with value: 0.6947158562000355 and parameters: {'n_estimators': 1095, 'max_depth': 15, 'min_child_weight': 169, 'gamma': 1, 'colsample_bytree': 0.7, 'lambda': 3.481757521334085, 'alpha': 0.03903088376276508, 'subsample': 0.7}. Best is trial 0 with value: 0.693691255506636.\u001b[0m\n",
      "\u001b[32m[I 2021-02-07 15:49:20,017]\u001b[0m Trial 7 finished with value: 0.6979771701733166 and parameters: {'n_estimators': 3759, 'max_depth': 16, 'min_child_weight': 40, 'gamma': 1, 'colsample_bytree': 0.7, 'lambda': 0.0011430892310736534, 'alpha': 0.5787747781333856, 'subsample': 0.8}. Best is trial 0 with value: 0.693691255506636.\u001b[0m\n",
      "\u001b[32m[I 2021-02-07 15:49:30,964]\u001b[0m Trial 8 finished with value: 0.7028782536329082 and parameters: {'n_estimators': 1261, 'max_depth': 10, 'min_child_weight': 62, 'gamma': 3, 'colsample_bytree': 0.5, 'lambda': 0.04431397369519426, 'alpha': 0.12729735368562953, 'subsample': 0.8}. Best is trial 0 with value: 0.693691255506636.\u001b[0m\n",
      "\u001b[32m[I 2021-02-07 15:49:56,123]\u001b[0m Trial 9 finished with value: 0.6960021587455268 and parameters: {'n_estimators': 2971, 'max_depth': 14, 'min_child_weight': 284, 'gamma': 2, 'colsample_bytree': 0.6, 'lambda': 0.03409587832537035, 'alpha': 5.065911863781606, 'subsample': 0.8}. Best is trial 0 with value: 0.693691255506636.\u001b[0m\n",
      "\u001b[32m[I 2021-02-07 15:50:03,280]\u001b[0m Trial 10 finished with value: 0.7044437000690279 and parameters: {'n_estimators': 2255, 'max_depth': 8, 'min_child_weight': 222, 'gamma': 2, 'colsample_bytree': 1.0, 'lambda': 8.728395494871377, 'alpha': 0.0017928926009009346, 'subsample': 1.0}. Best is trial 0 with value: 0.693691255506636.\u001b[0m\n",
      "\u001b[32m[I 2021-02-07 15:50:29,676]\u001b[0m Trial 11 finished with value: 0.6979168554048059 and parameters: {'n_estimators': 3215, 'max_depth': 12, 'min_child_weight': 126, 'gamma': 2, 'colsample_bytree': 1.0, 'lambda': 0.008341916234890013, 'alpha': 0.0031654735984724403, 'subsample': 0.7}. Best is trial 0 with value: 0.693691255506636.\u001b[0m\n",
      "\u001b[32m[I 2021-02-07 15:50:39,954]\u001b[0m Trial 12 finished with value: 0.6970630773988576 and parameters: {'n_estimators': 3278, 'max_depth': 8, 'min_child_weight': 148, 'gamma': 3, 'colsample_bytree': 0.9, 'lambda': 0.15163917796090937, 'alpha': 0.00800856958698458, 'subsample': 0.6}. Best is trial 0 with value: 0.693691255506636.\u001b[0m\n",
      "\u001b[32m[I 2021-02-07 15:50:58,783]\u001b[0m Trial 13 finished with value: 0.6957757175429792 and parameters: {'n_estimators': 2524, 'max_depth': 10, 'min_child_weight': 104, 'gamma': 2, 'colsample_bytree': 0.9, 'lambda': 0.23370060882972274, 'alpha': 0.1903168898059571, 'subsample': 0.7}. Best is trial 0 with value: 0.693691255506636.\u001b[0m\n",
      "\u001b[32m[I 2021-02-07 15:51:15,308]\u001b[0m Trial 14 finished with value: 0.6957977514209635 and parameters: {'n_estimators': 3825, 'max_depth': 13, 'min_child_weight': 199, 'gamma': 3, 'colsample_bytree': 0.9, 'lambda': 0.008661846220178205, 'alpha': 0.016494655932208536, 'subsample': 0.6}. Best is trial 0 with value: 0.693691255506636.\u001b[0m\n",
      "\u001b[32m[I 2021-02-07 15:52:00,181]\u001b[0m Trial 15 finished with value: 0.6963803909431311 and parameters: {'n_estimators': 3499, 'max_depth': 16, 'min_child_weight': 99, 'gamma': 2, 'colsample_bytree': 1.0, 'lambda': 0.013377518684366912, 'alpha': 2.6279472670158315, 'subsample': 1.0}. Best is trial 0 with value: 0.693691255506636.\u001b[0m\n",
      "\u001b[32m[I 2021-02-07 15:52:06,152]\u001b[0m Trial 16 finished with value: 0.7003214395488914 and parameters: {'n_estimators': 503, 'max_depth': 11, 'min_child_weight': 231, 'gamma': 3, 'colsample_bytree': 0.8, 'lambda': 1.1457799347453277, 'alpha': 0.2996956070760763, 'subsample': 0.7}. Best is trial 0 with value: 0.693691255506636.\u001b[0m\n",
      "\u001b[32m[I 2021-02-07 15:52:32,048]\u001b[0m Trial 17 finished with value: 0.6938846685105542 and parameters: {'n_estimators': 2688, 'max_depth': 13, 'min_child_weight': 177, 'gamma': 2, 'colsample_bytree': 1.0, 'lambda': 0.058720407524638106, 'alpha': 0.04400965595415191, 'subsample': 0.6}. Best is trial 0 with value: 0.693691255506636.\u001b[0m\n",
      "\u001b[32m[I 2021-02-07 15:52:43,346]\u001b[0m Trial 18 finished with value: 0.6987486546850478 and parameters: {'n_estimators': 1786, 'max_depth': 9, 'min_child_weight': 74, 'gamma': 3, 'colsample_bytree': 0.9, 'lambda': 0.2471209930018562, 'alpha': 1.9484332437645377, 'subsample': 0.7}. Best is trial 0 with value: 0.693691255506636.\u001b[0m\n",
      "\u001b[32m[I 2021-02-07 15:53:12,540]\u001b[0m Trial 19 finished with value: 0.6952414430512563 and parameters: {'n_estimators': 3996, 'max_depth': 15, 'min_child_weight': 140, 'gamma': 2, 'colsample_bytree': 1.0, 'lambda': 0.0033987244654855937, 'alpha': 0.07885736837576128, 'subsample': 1.0}. Best is trial 0 with value: 0.693691255506636.\u001b[0m\n",
      "\u001b[32m[I 2021-02-07 15:54:03,371]\u001b[0m Trial 20 finished with value: 0.6991568588287719 and parameters: {'n_estimators': 3476, 'max_depth': 13, 'min_child_weight': 191, 'gamma': 1, 'colsample_bytree': 0.8, 'lambda': 0.0925164067877787, 'alpha': 0.008415786263147103, 'subsample': 0.7}. Best is trial 0 with value: 0.693691255506636.\u001b[0m\n",
      "\u001b[32m[I 2021-02-07 15:54:29,496]\u001b[0m Trial 21 finished with value: 0.6963792338754594 and parameters: {'n_estimators': 2631, 'max_depth': 13, 'min_child_weight': 173, 'gamma': 2, 'colsample_bytree': 1.0, 'lambda': 0.04499095664681566, 'alpha': 0.050860934624937, 'subsample': 0.6}. Best is trial 0 with value: 0.693691255506636.\u001b[0m\n",
      "\u001b[32m[I 2021-02-07 15:54:49,566]\u001b[0m Trial 22 finished with value: 0.6964008995093547 and parameters: {'n_estimators': 2878, 'max_depth': 11, 'min_child_weight': 230, 'gamma': 2, 'colsample_bytree': 0.9, 'lambda': 0.08822522735473719, 'alpha': 0.022848967098898876, 'subsample': 0.6}. Best is trial 0 with value: 0.693691255506636.\u001b[0m\n",
      "\u001b[32m[I 2021-02-07 15:55:10,810]\u001b[0m Trial 23 finished with value: 0.6970920292200894 and parameters: {'n_estimators': 1832, 'max_depth': 11, 'min_child_weight': 122, 'gamma': 2, 'colsample_bytree': 1.0, 'lambda': 0.01933947678305877, 'alpha': 0.2934044406723525, 'subsample': 0.6}. Best is trial 0 with value: 0.693691255506636.\u001b[0m\n",
      "\u001b[32m[I 2021-02-07 15:55:39,570]\u001b[0m Trial 24 finished with value: 0.6938898246027524 and parameters: {'n_estimators': 3567, 'max_depth': 14, 'min_child_weight': 178, 'gamma': 2, 'colsample_bytree': 1.0, 'lambda': 0.38918831744590443, 'alpha': 0.10431821051547614, 'subsample': 0.6}. Best is trial 0 with value: 0.693691255506636.\u001b[0m\n",
      "\u001b[32m[I 2021-02-07 15:55:53,971]\u001b[0m Trial 25 finished with value: 0.7002836521684757 and parameters: {'n_estimators': 3081, 'max_depth': 12, 'min_child_weight': 160, 'gamma': 3, 'colsample_bytree': 0.9, 'lambda': 0.08412021523723623, 'alpha': 0.015239007229849388, 'subsample': 0.6}. Best is trial 0 with value: 0.693691255506636.\u001b[0m\n",
      "\u001b[32m[I 2021-02-07 15:56:16,268]\u001b[0m Trial 26 finished with value: 0.6984566787110984 and parameters: {'n_estimators': 2598, 'max_depth': 13, 'min_child_weight': 210, 'gamma': 2, 'colsample_bytree': 1.0, 'lambda': 1.5683139894627947, 'alpha': 0.006515277804579471, 'subsample': 0.6}. Best is trial 0 with value: 0.693691255506636.\u001b[0m\n",
      "\u001b[32m[I 2021-02-07 15:56:49,970]\u001b[0m Trial 27 finished with value: 0.6960216438946074 and parameters: {'n_estimators': 1875, 'max_depth': 11, 'min_child_weight': 102, 'gamma': 1, 'colsample_bytree': 0.9, 'lambda': 0.019172143343535567, 'alpha': 0.41630077878147903, 'subsample': 0.7}. Best is trial 0 with value: 0.693691255506636.\u001b[0m\n",
      "\u001b[32m[I 2021-02-07 15:57:23,134]\u001b[0m Trial 28 finished with value: 0.6945508571155042 and parameters: {'n_estimators': 2162, 'max_depth': 16, 'min_child_weight': 138, 'gamma': 2, 'colsample_bytree': 0.8, 'lambda': 0.004025725681925357, 'alpha': 0.19030091250447034, 'subsample': 0.6}. Best is trial 0 with value: 0.693691255506636.\u001b[0m\n",
      "\u001b[32m[I 2021-02-07 15:57:38,856]\u001b[0m Trial 29 finished with value: 0.6940051535144683 and parameters: {'n_estimators': 3706, 'max_depth': 14, 'min_child_weight': 260, 'gamma': 3, 'colsample_bytree': 1.0, 'lambda': 0.1647102013371239, 'alpha': 0.05960212550158225, 'subsample': 0.6}. Best is trial 0 with value: 0.693691255506636.\u001b[0m\n",
      "\u001b[32m[I 2021-02-07 15:57:54,256]\u001b[0m Trial 30 finished with value: 0.6949059272416372 and parameters: {'n_estimators': 3988, 'max_depth': 12, 'min_child_weight': 191, 'gamma': 3, 'colsample_bytree': 0.9, 'lambda': 0.052748789730009224, 'alpha': 0.022594016633788336, 'subsample': 0.7}. Best is trial 0 with value: 0.693691255506636.\u001b[0m\n",
      "\u001b[32m[I 2021-02-07 15:58:23,581]\u001b[0m Trial 31 finished with value: 0.6937202589297324 and parameters: {'n_estimators': 3501, 'max_depth': 14, 'min_child_weight': 174, 'gamma': 2, 'colsample_bytree': 1.0, 'lambda': 0.40322949876992314, 'alpha': 0.11777220565220271, 'subsample': 0.6}. Best is trial 0 with value: 0.693691255506636.\u001b[0m\n",
      "\u001b[32m[I 2021-02-07 15:58:54,600]\u001b[0m Trial 32 finished with value: 0.6931343254137325 and parameters: {'n_estimators': 3200, 'max_depth': 15, 'min_child_weight': 163, 'gamma': 2, 'colsample_bytree': 1.0, 'lambda': 0.36058314907063027, 'alpha': 0.13389286732859532, 'subsample': 0.6}. Best is trial 32 with value: 0.6931343254137325.\u001b[0m\n",
      "\u001b[32m[I 2021-02-07 15:59:27,400]\u001b[0m Trial 33 finished with value: 0.6963035670862441 and parameters: {'n_estimators': 3329, 'max_depth': 15, 'min_child_weight': 156, 'gamma': 2, 'colsample_bytree': 1.0, 'lambda': 1.147865842545881, 'alpha': 0.9329100730231958, 'subsample': 0.6}. Best is trial 32 with value: 0.6931343254137325.\u001b[0m\n",
      "\u001b[32m[I 2021-02-07 16:00:59,009]\u001b[0m Trial 34 finished with value: 0.6981060252053833 and parameters: {'n_estimators': 3633, 'max_depth': 16, 'min_child_weight': 117, 'gamma': 1, 'colsample_bytree': 1.0, 'lambda': 0.39540455926807355, 'alpha': 0.15363049342722232, 'subsample': 0.6}. Best is trial 32 with value: 0.6931343254137325.\u001b[0m\n",
      "\u001b[32m[I 2021-02-07 16:01:33,356]\u001b[0m Trial 35 finished with value: 0.6964560800642056 and parameters: {'n_estimators': 3968, 'max_depth': 15, 'min_child_weight': 149, 'gamma': 2, 'colsample_bytree': 0.9, 'lambda': 2.2567430060867886, 'alpha': 1.7396159634025667, 'subsample': 0.6}. Best is trial 32 with value: 0.6931343254137325.\u001b[0m\n",
      "\u001b[32m[I 2021-02-07 16:03:05,176]\u001b[0m Trial 36 finished with value: 0.695972402054672 and parameters: {'n_estimators': 3423, 'max_depth': 15, 'min_child_weight': 85, 'gamma': 1, 'colsample_bytree': 1.0, 'lambda': 0.6390057505278952, 'alpha': 0.44388553809216363, 'subsample': 0.6}. Best is trial 32 with value: 0.6931343254137325.\u001b[0m\n",
      "\u001b[32m[I 2021-02-07 16:03:26,778]\u001b[0m Trial 37 finished with value: 0.696738583530954 and parameters: {'n_estimators': 3188, 'max_depth': 14, 'min_child_weight': 251, 'gamma': 2, 'colsample_bytree': 0.9, 'lambda': 0.39552367757103735, 'alpha': 0.08002984562424291, 'subsample': 0.8}. Best is trial 32 with value: 0.6931343254137325.\u001b[0m\n",
      "\u001b[32m[I 2021-02-07 16:04:00,181]\u001b[0m Trial 38 finished with value: 0.6999445481047364 and parameters: {'n_estimators': 3766, 'max_depth': 16, 'min_child_weight': 165, 'gamma': 1, 'colsample_bytree': 0.5, 'lambda': 5.546244761882178, 'alpha': 0.6835773623482785, 'subsample': 1.0}. Best is trial 32 with value: 0.6931343254137325.\u001b[0m\n",
      "\u001b[32m[I 2021-02-07 16:04:28,592]\u001b[0m Trial 39 finished with value: 0.6957787652514476 and parameters: {'n_estimators': 2893, 'max_depth': 14, 'min_child_weight': 132, 'gamma': 2, 'colsample_bytree': 0.7, 'lambda': 0.15428250888893616, 'alpha': 0.2976707187160979, 'subsample': 0.6}. Best is trial 32 with value: 0.6931343254137325.\u001b[0m\n",
      "\u001b[32m[I 2021-02-07 16:04:46,501]\u001b[0m Trial 40 finished with value: 0.6975295528619369 and parameters: {'n_estimators': 3053, 'max_depth': 15, 'min_child_weight': 212, 'gamma': 3, 'colsample_bytree': 1.0, 'lambda': 0.9223092034459249, 'alpha': 1.1646730859205845, 'subsample': 0.8}. Best is trial 32 with value: 0.6931343254137325.\u001b[0m\n",
      "\u001b[32m[I 2021-02-07 16:05:12,756]\u001b[0m Trial 41 finished with value: 0.6983198917783928 and parameters: {'n_estimators': 2748, 'max_depth': 13, 'min_child_weight': 182, 'gamma': 2, 'colsample_bytree': 1.0, 'lambda': 0.03089048035788269, 'alpha': 0.04647080386212121, 'subsample': 0.6}. Best is trial 32 with value: 0.6931343254137325.\u001b[0m\n",
      "\u001b[32m[I 2021-02-07 16:05:37,147]\u001b[0m Trial 42 finished with value: 0.6939342160791169 and parameters: {'n_estimators': 2372, 'max_depth': 13, 'min_child_weight': 169, 'gamma': 2, 'colsample_bytree': 1.0, 'lambda': 0.22562316439577929, 'alpha': 0.03284305529260763, 'subsample': 0.6}. Best is trial 32 with value: 0.6931343254137325.\u001b[0m\n",
      "\u001b[32m[I 2021-02-07 16:06:05,585]\u001b[0m Trial 43 finished with value: 0.70015260603195 and parameters: {'n_estimators': 3148, 'max_depth': 14, 'min_child_weight': 193, 'gamma': 2, 'colsample_bytree': 1.0, 'lambda': 0.07149159694813877, 'alpha': 0.11369959331053402, 'subsample': 0.6}. Best is trial 32 with value: 0.6931343254137325.\u001b[0m\n",
      "\u001b[32m[I 2021-02-07 16:06:31,821]\u001b[0m Trial 44 finished with value: 0.6963845947602856 and parameters: {'n_estimators': 3331, 'max_depth': 12, 'min_child_weight': 153, 'gamma': 2, 'colsample_bytree': 1.0, 'lambda': 0.1374194022678844, 'alpha': 0.030416608029755852, 'subsample': 0.6}. Best is trial 32 with value: 0.6931343254137325.\u001b[0m\n",
      "\u001b[32m[I 2021-02-07 16:06:57,935]\u001b[0m Trial 45 finished with value: 0.6933401324231051 and parameters: {'n_estimators': 3833, 'max_depth': 15, 'min_child_weight': 207, 'gamma': 2, 'colsample_bytree': 0.9, 'lambda': 0.5439617224644002, 'alpha': 0.07904131576819388, 'subsample': 0.7}. Best is trial 32 with value: 0.6931343254137325.\u001b[0m\n",
      "\u001b[32m[I 2021-02-07 16:07:25,485]\u001b[0m Trial 46 finished with value: 0.6910913073521248 and parameters: {'n_estimators': 3886, 'max_depth': 16, 'min_child_weight': 242, 'gamma': 2, 'colsample_bytree': 0.9, 'lambda': 0.5441418147009018, 'alpha': 0.2124419333891664, 'subsample': 0.7}. Best is trial 46 with value: 0.6910913073521248.\u001b[0m\n",
      "\u001b[32m[I 2021-02-07 16:07:52,379]\u001b[0m Trial 47 finished with value: 0.6945914404523048 and parameters: {'n_estimators': 3862, 'max_depth': 16, 'min_child_weight': 239, 'gamma': 2, 'colsample_bytree': 0.8, 'lambda': 0.5405861603490386, 'alpha': 0.20836760401415375, 'subsample': 0.7}. Best is trial 46 with value: 0.6910913073521248.\u001b[0m\n",
      "\u001b[32m[I 2021-02-07 16:08:14,720]\u001b[0m Trial 48 finished with value: 0.6978035218685196 and parameters: {'n_estimators': 3591, 'max_depth': 15, 'min_child_weight': 279, 'gamma': 2, 'colsample_bytree': 0.7, 'lambda': 3.0747322244971125, 'alpha': 0.44576544073780616, 'subsample': 0.7}. Best is trial 46 with value: 0.6910913073521248.\u001b[0m\n",
      "\u001b[32m[I 2021-02-07 16:08:40,679]\u001b[0m Trial 49 finished with value: 0.697569807534418 and parameters: {'n_estimators': 3880, 'max_depth': 16, 'min_child_weight': 299, 'gamma': 2, 'colsample_bytree': 0.9, 'lambda': 0.3118127578347276, 'alpha': 0.08317824130501673, 'subsample': 0.7}. Best is trial 46 with value: 0.6910913073521248.\u001b[0m\n"
     ]
    },
    {
     "name": "stdout",
     "output_type": "stream",
     "text": [
      "Best trial: score 0.6910913073521248,\n",
      "params {'n_estimators': 3886, 'max_depth': 16, 'min_child_weight': 242, 'gamma': 2, 'colsample_bytree': 0.9, 'lambda': 0.5441418147009018, 'alpha': 0.2124419333891664, 'subsample': 0.7}\n",
      "0.65705977379271\n"
     ]
    }
   ],
   "source": [
    "study = optuna.create_study(direction='minimize',sampler=TPESampler())\n",
    "study.optimize(lambda trial : objectiveXGB(trial, X,  y, X_test), n_trials=50)\n",
    "print('Best trial: score {},\\nparams {}'.format(study.best_trial.value,study.best_trial.params))\n",
    "\n",
    "best_param = study.best_trial.params\n",
    "xgbReg = train(xgb.XGBRegressor(**best_param, tree_method='gpu_hist', random_state=42, predictor='gpu_predictor', learning_rate=0.01, nthread=-1))\n",
    "\n",
    "#params =  {'n_estimators': 3520, 'max_depth': 11, 'min_child_weight': 231, 'gamma': 2, 'colsample_bytree': 0.7, 'lambda': 0.014950936465569798, 'alpha': 0.28520156840812494, 'subsample': 0.6}\n",
    "#xgbReg = train(xgb.XGBRegressor(**params, tree_method='gpu_hist', random_state=42, predictor='gpu_predictor', learning_rate=0.01, nthread=-1))\n",
    "\n",
    "# 0.6744648190960726"
   ]
  },
  {
   "cell_type": "code",
   "execution_count": 7,
   "metadata": {
    "execution": {
     "iopub.execute_input": "2021-02-07T16:09:04.283927Z",
     "iopub.status.busy": "2021-02-07T16:09:04.283376Z",
     "iopub.status.idle": "2021-02-07T16:09:04.471592Z",
     "shell.execute_reply": "2021-02-07T16:09:04.470609Z"
    },
    "papermill": {
     "duration": 0.217068,
     "end_time": "2021-02-07T16:09:04.471716",
     "exception": false,
     "start_time": "2021-02-07T16:09:04.254648",
     "status": "completed"
    },
    "tags": []
   },
   "outputs": [
    {
     "data": {
      "text/html": [
       "        <script type=\"text/javascript\">\n",
       "        window.PlotlyConfig = {MathJaxConfig: 'local'};\n",
       "        if (window.MathJax) {MathJax.Hub.Config({SVG: {font: \"STIX-Web\"}});}\n",
       "        if (typeof require !== 'undefined') {\n",
       "        require.undef(\"plotly\");\n",
       "        requirejs.config({\n",
       "            paths: {\n",
       "                'plotly': ['https://cdn.plot.ly/plotly-latest.min']\n",
       "            }\n",
       "        });\n",
       "        require(['plotly'], function(Plotly) {\n",
       "            window._Plotly = Plotly;\n",
       "        });\n",
       "        }\n",
       "        </script>\n",
       "        "
      ]
     },
     "metadata": {},
     "output_type": "display_data"
    },
    {
     "data": {
      "text/html": [
       "<div>                            <div id=\"ed2da799-eea3-4549-b5f5-7e8bdaa34782\" class=\"plotly-graph-div\" style=\"height:525px; width:100%;\"></div>            <script type=\"text/javascript\">                require([\"plotly\"], function(Plotly) {                    window.PLOTLYENV=window.PLOTLYENV || {};                                    if (document.getElementById(\"ed2da799-eea3-4549-b5f5-7e8bdaa34782\")) {                    Plotly.newPlot(                        \"ed2da799-eea3-4549-b5f5-7e8bdaa34782\",                        [{\"mode\": \"markers\", \"name\": \"Objective Value\", \"type\": \"scatter\", \"x\": [0, 1, 2, 3, 4, 5, 6, 7, 8, 9, 10, 11, 12, 13, 14, 15, 16, 17, 18, 19, 20, 21, 22, 23, 24, 25, 26, 27, 28, 29, 30, 31, 32, 33, 34, 35, 36, 37, 38, 39, 40, 41, 42, 43, 44, 45, 46, 47, 48, 49], \"y\": [0.693691255506636, 0.6990533270885269, 0.6982767889631524, 0.693730457977652, 0.6953819260357933, 0.6982927717408353, 0.6947158562000355, 0.6979771701733166, 0.7028782536329082, 0.6960021587455268, 0.7044437000690279, 0.6979168554048059, 0.6970630773988576, 0.6957757175429792, 0.6957977514209635, 0.6963803909431311, 0.7003214395488914, 0.6938846685105542, 0.6987486546850478, 0.6952414430512563, 0.6991568588287719, 0.6963792338754594, 0.6964008995093547, 0.6970920292200894, 0.6938898246027524, 0.7002836521684757, 0.6984566787110984, 0.6960216438946074, 0.6945508571155042, 0.6940051535144683, 0.6949059272416372, 0.6937202589297324, 0.6931343254137325, 0.6963035670862441, 0.6981060252053833, 0.6964560800642056, 0.695972402054672, 0.696738583530954, 0.6999445481047364, 0.6957787652514476, 0.6975295528619369, 0.6983198917783928, 0.6939342160791169, 0.70015260603195, 0.6963845947602856, 0.6933401324231051, 0.6910913073521248, 0.6945914404523048, 0.6978035218685196, 0.697569807534418]}, {\"name\": \"Best Value\", \"type\": \"scatter\", \"x\": [0, 1, 2, 3, 4, 5, 6, 7, 8, 9, 10, 11, 12, 13, 14, 15, 16, 17, 18, 19, 20, 21, 22, 23, 24, 25, 26, 27, 28, 29, 30, 31, 32, 33, 34, 35, 36, 37, 38, 39, 40, 41, 42, 43, 44, 45, 46, 47, 48, 49], \"y\": [0.693691255506636, 0.693691255506636, 0.693691255506636, 0.693691255506636, 0.693691255506636, 0.693691255506636, 0.693691255506636, 0.693691255506636, 0.693691255506636, 0.693691255506636, 0.693691255506636, 0.693691255506636, 0.693691255506636, 0.693691255506636, 0.693691255506636, 0.693691255506636, 0.693691255506636, 0.693691255506636, 0.693691255506636, 0.693691255506636, 0.693691255506636, 0.693691255506636, 0.693691255506636, 0.693691255506636, 0.693691255506636, 0.693691255506636, 0.693691255506636, 0.693691255506636, 0.693691255506636, 0.693691255506636, 0.693691255506636, 0.693691255506636, 0.6931343254137325, 0.6931343254137325, 0.6931343254137325, 0.6931343254137325, 0.6931343254137325, 0.6931343254137325, 0.6931343254137325, 0.6931343254137325, 0.6931343254137325, 0.6931343254137325, 0.6931343254137325, 0.6931343254137325, 0.6931343254137325, 0.6931343254137325, 0.6910913073521248, 0.6910913073521248, 0.6910913073521248, 0.6910913073521248]}],                        {\"template\": {\"data\": {\"bar\": [{\"error_x\": {\"color\": \"#2a3f5f\"}, \"error_y\": {\"color\": \"#2a3f5f\"}, \"marker\": {\"line\": {\"color\": \"#E5ECF6\", \"width\": 0.5}}, \"type\": \"bar\"}], \"barpolar\": [{\"marker\": {\"line\": {\"color\": \"#E5ECF6\", \"width\": 0.5}}, \"type\": \"barpolar\"}], \"carpet\": [{\"aaxis\": {\"endlinecolor\": \"#2a3f5f\", \"gridcolor\": \"white\", \"linecolor\": \"white\", \"minorgridcolor\": \"white\", \"startlinecolor\": \"#2a3f5f\"}, \"baxis\": {\"endlinecolor\": \"#2a3f5f\", \"gridcolor\": \"white\", \"linecolor\": \"white\", \"minorgridcolor\": \"white\", \"startlinecolor\": \"#2a3f5f\"}, \"type\": \"carpet\"}], \"choropleth\": [{\"colorbar\": {\"outlinewidth\": 0, \"ticks\": \"\"}, \"type\": \"choropleth\"}], \"contour\": [{\"colorbar\": {\"outlinewidth\": 0, \"ticks\": \"\"}, \"colorscale\": [[0.0, \"#0d0887\"], [0.1111111111111111, \"#46039f\"], [0.2222222222222222, \"#7201a8\"], [0.3333333333333333, \"#9c179e\"], [0.4444444444444444, \"#bd3786\"], [0.5555555555555556, \"#d8576b\"], [0.6666666666666666, \"#ed7953\"], [0.7777777777777778, \"#fb9f3a\"], [0.8888888888888888, \"#fdca26\"], [1.0, \"#f0f921\"]], \"type\": \"contour\"}], \"contourcarpet\": [{\"colorbar\": {\"outlinewidth\": 0, \"ticks\": \"\"}, \"type\": \"contourcarpet\"}], \"heatmap\": [{\"colorbar\": {\"outlinewidth\": 0, \"ticks\": \"\"}, \"colorscale\": [[0.0, \"#0d0887\"], [0.1111111111111111, \"#46039f\"], [0.2222222222222222, \"#7201a8\"], [0.3333333333333333, \"#9c179e\"], [0.4444444444444444, \"#bd3786\"], [0.5555555555555556, \"#d8576b\"], [0.6666666666666666, \"#ed7953\"], [0.7777777777777778, \"#fb9f3a\"], [0.8888888888888888, \"#fdca26\"], [1.0, \"#f0f921\"]], \"type\": \"heatmap\"}], \"heatmapgl\": [{\"colorbar\": {\"outlinewidth\": 0, \"ticks\": \"\"}, \"colorscale\": [[0.0, \"#0d0887\"], [0.1111111111111111, \"#46039f\"], [0.2222222222222222, \"#7201a8\"], [0.3333333333333333, \"#9c179e\"], [0.4444444444444444, \"#bd3786\"], [0.5555555555555556, \"#d8576b\"], [0.6666666666666666, \"#ed7953\"], [0.7777777777777778, \"#fb9f3a\"], [0.8888888888888888, \"#fdca26\"], [1.0, \"#f0f921\"]], \"type\": \"heatmapgl\"}], \"histogram\": [{\"marker\": {\"colorbar\": {\"outlinewidth\": 0, \"ticks\": \"\"}}, \"type\": \"histogram\"}], \"histogram2d\": [{\"colorbar\": {\"outlinewidth\": 0, \"ticks\": \"\"}, \"colorscale\": [[0.0, \"#0d0887\"], [0.1111111111111111, \"#46039f\"], [0.2222222222222222, \"#7201a8\"], [0.3333333333333333, \"#9c179e\"], [0.4444444444444444, \"#bd3786\"], [0.5555555555555556, \"#d8576b\"], [0.6666666666666666, \"#ed7953\"], [0.7777777777777778, \"#fb9f3a\"], [0.8888888888888888, \"#fdca26\"], [1.0, \"#f0f921\"]], \"type\": \"histogram2d\"}], \"histogram2dcontour\": [{\"colorbar\": {\"outlinewidth\": 0, \"ticks\": \"\"}, \"colorscale\": [[0.0, \"#0d0887\"], [0.1111111111111111, \"#46039f\"], [0.2222222222222222, \"#7201a8\"], [0.3333333333333333, \"#9c179e\"], [0.4444444444444444, \"#bd3786\"], [0.5555555555555556, \"#d8576b\"], [0.6666666666666666, \"#ed7953\"], [0.7777777777777778, \"#fb9f3a\"], [0.8888888888888888, \"#fdca26\"], [1.0, \"#f0f921\"]], \"type\": \"histogram2dcontour\"}], \"mesh3d\": [{\"colorbar\": {\"outlinewidth\": 0, \"ticks\": \"\"}, \"type\": \"mesh3d\"}], \"parcoords\": [{\"line\": {\"colorbar\": {\"outlinewidth\": 0, \"ticks\": \"\"}}, \"type\": \"parcoords\"}], \"pie\": [{\"automargin\": true, \"type\": \"pie\"}], \"scatter\": [{\"marker\": {\"colorbar\": {\"outlinewidth\": 0, \"ticks\": \"\"}}, \"type\": \"scatter\"}], \"scatter3d\": [{\"line\": {\"colorbar\": {\"outlinewidth\": 0, \"ticks\": \"\"}}, \"marker\": {\"colorbar\": {\"outlinewidth\": 0, \"ticks\": \"\"}}, \"type\": \"scatter3d\"}], \"scattercarpet\": [{\"marker\": {\"colorbar\": {\"outlinewidth\": 0, \"ticks\": \"\"}}, \"type\": \"scattercarpet\"}], \"scattergeo\": [{\"marker\": {\"colorbar\": {\"outlinewidth\": 0, \"ticks\": \"\"}}, \"type\": \"scattergeo\"}], \"scattergl\": [{\"marker\": {\"colorbar\": {\"outlinewidth\": 0, \"ticks\": \"\"}}, \"type\": \"scattergl\"}], \"scattermapbox\": [{\"marker\": {\"colorbar\": {\"outlinewidth\": 0, \"ticks\": \"\"}}, \"type\": \"scattermapbox\"}], \"scatterpolar\": [{\"marker\": {\"colorbar\": {\"outlinewidth\": 0, \"ticks\": \"\"}}, \"type\": \"scatterpolar\"}], \"scatterpolargl\": [{\"marker\": {\"colorbar\": {\"outlinewidth\": 0, \"ticks\": \"\"}}, \"type\": \"scatterpolargl\"}], \"scatterternary\": [{\"marker\": {\"colorbar\": {\"outlinewidth\": 0, \"ticks\": \"\"}}, \"type\": \"scatterternary\"}], \"surface\": [{\"colorbar\": {\"outlinewidth\": 0, \"ticks\": \"\"}, \"colorscale\": [[0.0, \"#0d0887\"], [0.1111111111111111, \"#46039f\"], [0.2222222222222222, \"#7201a8\"], [0.3333333333333333, \"#9c179e\"], [0.4444444444444444, \"#bd3786\"], [0.5555555555555556, \"#d8576b\"], [0.6666666666666666, \"#ed7953\"], [0.7777777777777778, \"#fb9f3a\"], [0.8888888888888888, \"#fdca26\"], [1.0, \"#f0f921\"]], \"type\": \"surface\"}], \"table\": [{\"cells\": {\"fill\": {\"color\": \"#EBF0F8\"}, \"line\": {\"color\": \"white\"}}, \"header\": {\"fill\": {\"color\": \"#C8D4E3\"}, \"line\": {\"color\": \"white\"}}, \"type\": \"table\"}]}, \"layout\": {\"annotationdefaults\": {\"arrowcolor\": \"#2a3f5f\", \"arrowhead\": 0, \"arrowwidth\": 1}, \"autotypenumbers\": \"strict\", \"coloraxis\": {\"colorbar\": {\"outlinewidth\": 0, \"ticks\": \"\"}}, \"colorscale\": {\"diverging\": [[0, \"#8e0152\"], [0.1, \"#c51b7d\"], [0.2, \"#de77ae\"], [0.3, \"#f1b6da\"], [0.4, \"#fde0ef\"], [0.5, \"#f7f7f7\"], [0.6, \"#e6f5d0\"], [0.7, \"#b8e186\"], [0.8, \"#7fbc41\"], [0.9, \"#4d9221\"], [1, \"#276419\"]], \"sequential\": [[0.0, \"#0d0887\"], [0.1111111111111111, \"#46039f\"], [0.2222222222222222, \"#7201a8\"], [0.3333333333333333, \"#9c179e\"], [0.4444444444444444, \"#bd3786\"], [0.5555555555555556, \"#d8576b\"], [0.6666666666666666, \"#ed7953\"], [0.7777777777777778, \"#fb9f3a\"], [0.8888888888888888, \"#fdca26\"], [1.0, \"#f0f921\"]], \"sequentialminus\": [[0.0, \"#0d0887\"], [0.1111111111111111, \"#46039f\"], [0.2222222222222222, \"#7201a8\"], [0.3333333333333333, \"#9c179e\"], [0.4444444444444444, \"#bd3786\"], [0.5555555555555556, \"#d8576b\"], [0.6666666666666666, \"#ed7953\"], [0.7777777777777778, \"#fb9f3a\"], [0.8888888888888888, \"#fdca26\"], [1.0, \"#f0f921\"]]}, \"colorway\": [\"#636efa\", \"#EF553B\", \"#00cc96\", \"#ab63fa\", \"#FFA15A\", \"#19d3f3\", \"#FF6692\", \"#B6E880\", \"#FF97FF\", \"#FECB52\"], \"font\": {\"color\": \"#2a3f5f\"}, \"geo\": {\"bgcolor\": \"white\", \"lakecolor\": \"white\", \"landcolor\": \"#E5ECF6\", \"showlakes\": true, \"showland\": true, \"subunitcolor\": \"white\"}, \"hoverlabel\": {\"align\": \"left\"}, \"hovermode\": \"closest\", \"mapbox\": {\"style\": \"light\"}, \"paper_bgcolor\": \"white\", \"plot_bgcolor\": \"#E5ECF6\", \"polar\": {\"angularaxis\": {\"gridcolor\": \"white\", \"linecolor\": \"white\", \"ticks\": \"\"}, \"bgcolor\": \"#E5ECF6\", \"radialaxis\": {\"gridcolor\": \"white\", \"linecolor\": \"white\", \"ticks\": \"\"}}, \"scene\": {\"xaxis\": {\"backgroundcolor\": \"#E5ECF6\", \"gridcolor\": \"white\", \"gridwidth\": 2, \"linecolor\": \"white\", \"showbackground\": true, \"ticks\": \"\", \"zerolinecolor\": \"white\"}, \"yaxis\": {\"backgroundcolor\": \"#E5ECF6\", \"gridcolor\": \"white\", \"gridwidth\": 2, \"linecolor\": \"white\", \"showbackground\": true, \"ticks\": \"\", \"zerolinecolor\": \"white\"}, \"zaxis\": {\"backgroundcolor\": \"#E5ECF6\", \"gridcolor\": \"white\", \"gridwidth\": 2, \"linecolor\": \"white\", \"showbackground\": true, \"ticks\": \"\", \"zerolinecolor\": \"white\"}}, \"shapedefaults\": {\"line\": {\"color\": \"#2a3f5f\"}}, \"ternary\": {\"aaxis\": {\"gridcolor\": \"white\", \"linecolor\": \"white\", \"ticks\": \"\"}, \"baxis\": {\"gridcolor\": \"white\", \"linecolor\": \"white\", \"ticks\": \"\"}, \"bgcolor\": \"#E5ECF6\", \"caxis\": {\"gridcolor\": \"white\", \"linecolor\": \"white\", \"ticks\": \"\"}}, \"title\": {\"x\": 0.05}, \"xaxis\": {\"automargin\": true, \"gridcolor\": \"white\", \"linecolor\": \"white\", \"ticks\": \"\", \"title\": {\"standoff\": 15}, \"zerolinecolor\": \"white\", \"zerolinewidth\": 2}, \"yaxis\": {\"automargin\": true, \"gridcolor\": \"white\", \"linecolor\": \"white\", \"ticks\": \"\", \"title\": {\"standoff\": 15}, \"zerolinecolor\": \"white\", \"zerolinewidth\": 2}}}, \"title\": {\"text\": \"Optimization History Plot\"}, \"xaxis\": {\"title\": {\"text\": \"#Trials\"}}, \"yaxis\": {\"title\": {\"text\": \"Objective Value\"}}},                        {\"responsive\": true}                    ).then(function(){\n",
       "                            \n",
       "var gd = document.getElementById('ed2da799-eea3-4549-b5f5-7e8bdaa34782');\n",
       "var x = new MutationObserver(function (mutations, observer) {{\n",
       "        var display = window.getComputedStyle(gd).display;\n",
       "        if (!display || display === 'none') {{\n",
       "            console.log([gd, 'removed!']);\n",
       "            Plotly.purge(gd);\n",
       "            observer.disconnect();\n",
       "        }}\n",
       "}});\n",
       "\n",
       "// Listen for the removal of the full notebook cells\n",
       "var notebookContainer = gd.closest('#notebook-container');\n",
       "if (notebookContainer) {{\n",
       "    x.observe(notebookContainer, {childList: true});\n",
       "}}\n",
       "\n",
       "// Listen for the clearing of the current output cell\n",
       "var outputEl = gd.closest('.output');\n",
       "if (outputEl) {{\n",
       "    x.observe(outputEl, {childList: true});\n",
       "}}\n",
       "\n",
       "                        })                };                });            </script>        </div>"
      ]
     },
     "metadata": {},
     "output_type": "display_data"
    }
   ],
   "source": [
    "optuna.visualization.plot_optimization_history(study)"
   ]
  },
  {
   "cell_type": "code",
   "execution_count": 8,
   "metadata": {
    "execution": {
     "iopub.execute_input": "2021-02-07T16:09:04.529657Z",
     "iopub.status.busy": "2021-02-07T16:09:04.529123Z",
     "iopub.status.idle": "2021-02-07T16:09:06.084903Z",
     "shell.execute_reply": "2021-02-07T16:09:06.085286Z"
    },
    "papermill": {
     "duration": 1.586799,
     "end_time": "2021-02-07T16:09:06.085451",
     "exception": false,
     "start_time": "2021-02-07T16:09:04.498652",
     "status": "completed"
    },
    "tags": []
   },
   "outputs": [
    {
     "data": {
      "text/html": [
       "<div>                            <div id=\"b4daa477-f0c6-4930-8b40-060ae29f1eb5\" class=\"plotly-graph-div\" style=\"height:525px; width:100%;\"></div>            <script type=\"text/javascript\">                require([\"plotly\"], function(Plotly) {                    window.PLOTLYENV=window.PLOTLYENV || {};                                    if (document.getElementById(\"b4daa477-f0c6-4930-8b40-060ae29f1eb5\")) {                    Plotly.newPlot(                        \"b4daa477-f0c6-4930-8b40-060ae29f1eb5\",                        [{\"cliponaxis\": false, \"hovertemplate\": [\"alpha (LogUniformDistribution): 0.013506251528334325<extra></extra>\", \"gamma (IntUniformDistribution): 0.060560440786585706<extra></extra>\", \"subsample (CategoricalDistribution): 0.09341467482555682<extra></extra>\", \"min_child_weight (IntUniformDistribution): 0.10310332654414177<extra></extra>\", \"max_depth (IntUniformDistribution): 0.12267488672724729<extra></extra>\", \"n_estimators (IntUniformDistribution): 0.1741754017992031<extra></extra>\", \"colsample_bytree (DiscreteUniformDistribution): 0.17643608232816968<extra></extra>\", \"lambda (LogUniformDistribution): 0.2561289354607613<extra></extra>\"], \"marker\": {\"color\": [\"rgb(8,48,107)\", \"rgb(8,81,156)\", \"rgb(66,146,198)\", \"rgb(8,81,156)\", \"rgb(8,81,156)\", \"rgb(8,81,156)\", \"rgb(8,48,107)\", \"rgb(8,48,107)\"]}, \"orientation\": \"h\", \"text\": [\"0.013506251528334325\", \"0.060560440786585706\", \"0.09341467482555682\", \"0.10310332654414177\", \"0.12267488672724729\", \"0.1741754017992031\", \"0.17643608232816968\", \"0.2561289354607613\"], \"textposition\": \"outside\", \"texttemplate\": \"%{text:.2f}\", \"type\": \"bar\", \"x\": [0.013506251528334325, 0.060560440786585706, 0.09341467482555682, 0.10310332654414177, 0.12267488672724729, 0.1741754017992031, 0.17643608232816968, 0.2561289354607613], \"y\": [\"alpha\", \"gamma\", \"subsample\", \"min_child_weight\", \"max_depth\", \"n_estimators\", \"colsample_bytree\", \"lambda\"]}],                        {\"showlegend\": false, \"template\": {\"data\": {\"bar\": [{\"error_x\": {\"color\": \"#2a3f5f\"}, \"error_y\": {\"color\": \"#2a3f5f\"}, \"marker\": {\"line\": {\"color\": \"#E5ECF6\", \"width\": 0.5}}, \"type\": \"bar\"}], \"barpolar\": [{\"marker\": {\"line\": {\"color\": \"#E5ECF6\", \"width\": 0.5}}, \"type\": \"barpolar\"}], \"carpet\": [{\"aaxis\": {\"endlinecolor\": \"#2a3f5f\", \"gridcolor\": \"white\", \"linecolor\": \"white\", \"minorgridcolor\": \"white\", \"startlinecolor\": \"#2a3f5f\"}, \"baxis\": {\"endlinecolor\": \"#2a3f5f\", \"gridcolor\": \"white\", \"linecolor\": \"white\", \"minorgridcolor\": \"white\", \"startlinecolor\": \"#2a3f5f\"}, \"type\": \"carpet\"}], \"choropleth\": [{\"colorbar\": {\"outlinewidth\": 0, \"ticks\": \"\"}, \"type\": \"choropleth\"}], \"contour\": [{\"colorbar\": {\"outlinewidth\": 0, \"ticks\": \"\"}, \"colorscale\": [[0.0, \"#0d0887\"], [0.1111111111111111, \"#46039f\"], [0.2222222222222222, \"#7201a8\"], [0.3333333333333333, \"#9c179e\"], [0.4444444444444444, \"#bd3786\"], [0.5555555555555556, \"#d8576b\"], [0.6666666666666666, \"#ed7953\"], [0.7777777777777778, \"#fb9f3a\"], [0.8888888888888888, \"#fdca26\"], [1.0, \"#f0f921\"]], \"type\": \"contour\"}], \"contourcarpet\": [{\"colorbar\": {\"outlinewidth\": 0, \"ticks\": \"\"}, \"type\": \"contourcarpet\"}], \"heatmap\": [{\"colorbar\": {\"outlinewidth\": 0, \"ticks\": \"\"}, \"colorscale\": [[0.0, \"#0d0887\"], [0.1111111111111111, \"#46039f\"], [0.2222222222222222, \"#7201a8\"], [0.3333333333333333, \"#9c179e\"], [0.4444444444444444, \"#bd3786\"], [0.5555555555555556, \"#d8576b\"], [0.6666666666666666, \"#ed7953\"], [0.7777777777777778, \"#fb9f3a\"], [0.8888888888888888, \"#fdca26\"], [1.0, \"#f0f921\"]], \"type\": \"heatmap\"}], \"heatmapgl\": [{\"colorbar\": {\"outlinewidth\": 0, \"ticks\": \"\"}, \"colorscale\": [[0.0, \"#0d0887\"], [0.1111111111111111, \"#46039f\"], [0.2222222222222222, \"#7201a8\"], [0.3333333333333333, \"#9c179e\"], [0.4444444444444444, \"#bd3786\"], [0.5555555555555556, \"#d8576b\"], [0.6666666666666666, \"#ed7953\"], [0.7777777777777778, \"#fb9f3a\"], [0.8888888888888888, \"#fdca26\"], [1.0, \"#f0f921\"]], \"type\": \"heatmapgl\"}], \"histogram\": [{\"marker\": {\"colorbar\": {\"outlinewidth\": 0, \"ticks\": \"\"}}, \"type\": \"histogram\"}], \"histogram2d\": [{\"colorbar\": {\"outlinewidth\": 0, \"ticks\": \"\"}, \"colorscale\": [[0.0, \"#0d0887\"], [0.1111111111111111, \"#46039f\"], [0.2222222222222222, \"#7201a8\"], [0.3333333333333333, \"#9c179e\"], [0.4444444444444444, \"#bd3786\"], [0.5555555555555556, \"#d8576b\"], [0.6666666666666666, \"#ed7953\"], [0.7777777777777778, \"#fb9f3a\"], [0.8888888888888888, \"#fdca26\"], [1.0, \"#f0f921\"]], \"type\": \"histogram2d\"}], \"histogram2dcontour\": [{\"colorbar\": {\"outlinewidth\": 0, \"ticks\": \"\"}, \"colorscale\": [[0.0, \"#0d0887\"], [0.1111111111111111, \"#46039f\"], [0.2222222222222222, \"#7201a8\"], [0.3333333333333333, \"#9c179e\"], [0.4444444444444444, \"#bd3786\"], [0.5555555555555556, \"#d8576b\"], [0.6666666666666666, \"#ed7953\"], [0.7777777777777778, \"#fb9f3a\"], [0.8888888888888888, \"#fdca26\"], [1.0, \"#f0f921\"]], \"type\": \"histogram2dcontour\"}], \"mesh3d\": [{\"colorbar\": {\"outlinewidth\": 0, \"ticks\": \"\"}, \"type\": \"mesh3d\"}], \"parcoords\": [{\"line\": {\"colorbar\": {\"outlinewidth\": 0, \"ticks\": \"\"}}, \"type\": \"parcoords\"}], \"pie\": [{\"automargin\": true, \"type\": \"pie\"}], \"scatter\": [{\"marker\": {\"colorbar\": {\"outlinewidth\": 0, \"ticks\": \"\"}}, \"type\": \"scatter\"}], \"scatter3d\": [{\"line\": {\"colorbar\": {\"outlinewidth\": 0, \"ticks\": \"\"}}, \"marker\": {\"colorbar\": {\"outlinewidth\": 0, \"ticks\": \"\"}}, \"type\": \"scatter3d\"}], \"scattercarpet\": [{\"marker\": {\"colorbar\": {\"outlinewidth\": 0, \"ticks\": \"\"}}, \"type\": \"scattercarpet\"}], \"scattergeo\": [{\"marker\": {\"colorbar\": {\"outlinewidth\": 0, \"ticks\": \"\"}}, \"type\": \"scattergeo\"}], \"scattergl\": [{\"marker\": {\"colorbar\": {\"outlinewidth\": 0, \"ticks\": \"\"}}, \"type\": \"scattergl\"}], \"scattermapbox\": [{\"marker\": {\"colorbar\": {\"outlinewidth\": 0, \"ticks\": \"\"}}, \"type\": \"scattermapbox\"}], \"scatterpolar\": [{\"marker\": {\"colorbar\": {\"outlinewidth\": 0, \"ticks\": \"\"}}, \"type\": \"scatterpolar\"}], \"scatterpolargl\": [{\"marker\": {\"colorbar\": {\"outlinewidth\": 0, \"ticks\": \"\"}}, \"type\": \"scatterpolargl\"}], \"scatterternary\": [{\"marker\": {\"colorbar\": {\"outlinewidth\": 0, \"ticks\": \"\"}}, \"type\": \"scatterternary\"}], \"surface\": [{\"colorbar\": {\"outlinewidth\": 0, \"ticks\": \"\"}, \"colorscale\": [[0.0, \"#0d0887\"], [0.1111111111111111, \"#46039f\"], [0.2222222222222222, \"#7201a8\"], [0.3333333333333333, \"#9c179e\"], [0.4444444444444444, \"#bd3786\"], [0.5555555555555556, \"#d8576b\"], [0.6666666666666666, \"#ed7953\"], [0.7777777777777778, \"#fb9f3a\"], [0.8888888888888888, \"#fdca26\"], [1.0, \"#f0f921\"]], \"type\": \"surface\"}], \"table\": [{\"cells\": {\"fill\": {\"color\": \"#EBF0F8\"}, \"line\": {\"color\": \"white\"}}, \"header\": {\"fill\": {\"color\": \"#C8D4E3\"}, \"line\": {\"color\": \"white\"}}, \"type\": \"table\"}]}, \"layout\": {\"annotationdefaults\": {\"arrowcolor\": \"#2a3f5f\", \"arrowhead\": 0, \"arrowwidth\": 1}, \"autotypenumbers\": \"strict\", \"coloraxis\": {\"colorbar\": {\"outlinewidth\": 0, \"ticks\": \"\"}}, \"colorscale\": {\"diverging\": [[0, \"#8e0152\"], [0.1, \"#c51b7d\"], [0.2, \"#de77ae\"], [0.3, \"#f1b6da\"], [0.4, \"#fde0ef\"], [0.5, \"#f7f7f7\"], [0.6, \"#e6f5d0\"], [0.7, \"#b8e186\"], [0.8, \"#7fbc41\"], [0.9, \"#4d9221\"], [1, \"#276419\"]], \"sequential\": [[0.0, \"#0d0887\"], [0.1111111111111111, \"#46039f\"], [0.2222222222222222, \"#7201a8\"], [0.3333333333333333, \"#9c179e\"], [0.4444444444444444, \"#bd3786\"], [0.5555555555555556, \"#d8576b\"], [0.6666666666666666, \"#ed7953\"], [0.7777777777777778, \"#fb9f3a\"], [0.8888888888888888, \"#fdca26\"], [1.0, \"#f0f921\"]], \"sequentialminus\": [[0.0, \"#0d0887\"], [0.1111111111111111, \"#46039f\"], [0.2222222222222222, \"#7201a8\"], [0.3333333333333333, \"#9c179e\"], [0.4444444444444444, \"#bd3786\"], [0.5555555555555556, \"#d8576b\"], [0.6666666666666666, \"#ed7953\"], [0.7777777777777778, \"#fb9f3a\"], [0.8888888888888888, \"#fdca26\"], [1.0, \"#f0f921\"]]}, \"colorway\": [\"#636efa\", \"#EF553B\", \"#00cc96\", \"#ab63fa\", \"#FFA15A\", \"#19d3f3\", \"#FF6692\", \"#B6E880\", \"#FF97FF\", \"#FECB52\"], \"font\": {\"color\": \"#2a3f5f\"}, \"geo\": {\"bgcolor\": \"white\", \"lakecolor\": \"white\", \"landcolor\": \"#E5ECF6\", \"showlakes\": true, \"showland\": true, \"subunitcolor\": \"white\"}, \"hoverlabel\": {\"align\": \"left\"}, \"hovermode\": \"closest\", \"mapbox\": {\"style\": \"light\"}, \"paper_bgcolor\": \"white\", \"plot_bgcolor\": \"#E5ECF6\", \"polar\": {\"angularaxis\": {\"gridcolor\": \"white\", \"linecolor\": \"white\", \"ticks\": \"\"}, \"bgcolor\": \"#E5ECF6\", \"radialaxis\": {\"gridcolor\": \"white\", \"linecolor\": \"white\", \"ticks\": \"\"}}, \"scene\": {\"xaxis\": {\"backgroundcolor\": \"#E5ECF6\", \"gridcolor\": \"white\", \"gridwidth\": 2, \"linecolor\": \"white\", \"showbackground\": true, \"ticks\": \"\", \"zerolinecolor\": \"white\"}, \"yaxis\": {\"backgroundcolor\": \"#E5ECF6\", \"gridcolor\": \"white\", \"gridwidth\": 2, \"linecolor\": \"white\", \"showbackground\": true, \"ticks\": \"\", \"zerolinecolor\": \"white\"}, \"zaxis\": {\"backgroundcolor\": \"#E5ECF6\", \"gridcolor\": \"white\", \"gridwidth\": 2, \"linecolor\": \"white\", \"showbackground\": true, \"ticks\": \"\", \"zerolinecolor\": \"white\"}}, \"shapedefaults\": {\"line\": {\"color\": \"#2a3f5f\"}}, \"ternary\": {\"aaxis\": {\"gridcolor\": \"white\", \"linecolor\": \"white\", \"ticks\": \"\"}, \"baxis\": {\"gridcolor\": \"white\", \"linecolor\": \"white\", \"ticks\": \"\"}, \"bgcolor\": \"#E5ECF6\", \"caxis\": {\"gridcolor\": \"white\", \"linecolor\": \"white\", \"ticks\": \"\"}}, \"title\": {\"x\": 0.05}, \"xaxis\": {\"automargin\": true, \"gridcolor\": \"white\", \"linecolor\": \"white\", \"ticks\": \"\", \"title\": {\"standoff\": 15}, \"zerolinecolor\": \"white\", \"zerolinewidth\": 2}, \"yaxis\": {\"automargin\": true, \"gridcolor\": \"white\", \"linecolor\": \"white\", \"ticks\": \"\", \"title\": {\"standoff\": 15}, \"zerolinecolor\": \"white\", \"zerolinewidth\": 2}}}, \"title\": {\"text\": \"Hyperparameter Importances\"}, \"xaxis\": {\"title\": {\"text\": \"Importance\"}}, \"yaxis\": {\"title\": {\"text\": \"Hyperparameter\"}}},                        {\"responsive\": true}                    ).then(function(){\n",
       "                            \n",
       "var gd = document.getElementById('b4daa477-f0c6-4930-8b40-060ae29f1eb5');\n",
       "var x = new MutationObserver(function (mutations, observer) {{\n",
       "        var display = window.getComputedStyle(gd).display;\n",
       "        if (!display || display === 'none') {{\n",
       "            console.log([gd, 'removed!']);\n",
       "            Plotly.purge(gd);\n",
       "            observer.disconnect();\n",
       "        }}\n",
       "}});\n",
       "\n",
       "// Listen for the removal of the full notebook cells\n",
       "var notebookContainer = gd.closest('#notebook-container');\n",
       "if (notebookContainer) {{\n",
       "    x.observe(notebookContainer, {childList: true});\n",
       "}}\n",
       "\n",
       "// Listen for the clearing of the current output cell\n",
       "var outputEl = gd.closest('.output');\n",
       "if (outputEl) {{\n",
       "    x.observe(outputEl, {childList: true});\n",
       "}}\n",
       "\n",
       "                        })                };                });            </script>        </div>"
      ]
     },
     "metadata": {},
     "output_type": "display_data"
    }
   ],
   "source": [
    "optuna.visualization.plot_param_importances(study)"
   ]
  },
  {
   "cell_type": "code",
   "execution_count": 9,
   "metadata": {
    "execution": {
     "iopub.execute_input": "2021-02-07T16:09:06.151403Z",
     "iopub.status.busy": "2021-02-07T16:09:06.150163Z",
     "iopub.status.idle": "2021-02-07T16:09:06.152608Z",
     "shell.execute_reply": "2021-02-07T16:09:06.153028Z"
    },
    "papermill": {
     "duration": 0.039942,
     "end_time": "2021-02-07T16:09:06.153133",
     "exception": false,
     "start_time": "2021-02-07T16:09:06.113191",
     "status": "completed"
    },
    "tags": []
   },
   "outputs": [],
   "source": [
    "def objectiveLGBM(trial: Trial, X, y, test):\n",
    "    param = {\n",
    "        'objective': 'regression',\n",
    "        'metric': 'root_mean_squared_error',\n",
    "        'verbosity': -1,\n",
    "        'boosting_type': 'gbdt',\n",
    "        'lambda_l1': trial.suggest_loguniform('lambda_l1', 1e-8, 10.0),\n",
    "        'lambda_l2': trial.suggest_loguniform('lambda_l2', 1e-8, 10.0),\n",
    "        'num_leaves': trial.suggest_int('num_leaves', 2, 512),\n",
    "        'learning_rate': 0.01,\n",
    "        'n_estimators': trial.suggest_int('n_estimators', 700, 3000),\n",
    "        'feature_fraction': trial.suggest_uniform('feature_fraction', 0.4, 1.0),\n",
    "        'bagging_fraction': trial.suggest_uniform('bagging_fraction', 0.4, 1.0),\n",
    "        'bagging_freq': trial.suggest_int('bagging_freq', 1, 7),\n",
    "        'min_child_samples': trial.suggest_int('min_child_samples', 5, 100),\n",
    "        'device':\"gpu\",\n",
    "        'gpu_use_dp':True\n",
    "    }\n",
    "    X_train, X_test, y_train, y_test = train_test_split(X, y.flatten(), test_size=0.1)\n",
    "        \n",
    "    lgbm_regr = LGBMRegressor(**param)\n",
    "    lgbm_regr = lgbm_regr.fit(X_train, y_train, verbose=False)\n",
    "    \n",
    "    score = mean_squared_error(lgbm_regr.predict(X_test), y_test, squared=False)\n",
    "    return score"
   ]
  },
  {
   "cell_type": "code",
   "execution_count": 10,
   "metadata": {
    "execution": {
     "iopub.execute_input": "2021-02-07T16:09:06.214962Z",
     "iopub.status.busy": "2021-02-07T16:09:06.214175Z",
     "iopub.status.idle": "2021-02-07T16:56:02.353571Z",
     "shell.execute_reply": "2021-02-07T16:56:02.353057Z"
    },
    "papermill": {
     "duration": 2816.173466,
     "end_time": "2021-02-07T16:56:02.353671",
     "exception": false,
     "start_time": "2021-02-07T16:09:06.180205",
     "status": "completed"
    },
    "tags": []
   },
   "outputs": [
    {
     "name": "stderr",
     "output_type": "stream",
     "text": [
      "\u001b[32m[I 2021-02-07 16:09:06,212]\u001b[0m A new study created in memory with name: no-name-baf8fe77-dc3a-43df-affc-30fbb657de35\u001b[0m\n",
      "\u001b[32m[I 2021-02-07 16:11:29,403]\u001b[0m Trial 0 finished with value: 0.69441866030034 and parameters: {'lambda_l1': 0.2214159460700897, 'lambda_l2': 0.07040443420030855, 'num_leaves': 138, 'n_estimators': 2232, 'feature_fraction': 0.6045047825875954, 'bagging_fraction': 0.687139610602407, 'bagging_freq': 1, 'min_child_samples': 5}. Best is trial 0 with value: 0.69441866030034.\u001b[0m\n",
      "\u001b[32m[I 2021-02-07 16:15:18,627]\u001b[0m Trial 1 finished with value: 0.6960968240653509 and parameters: {'lambda_l1': 2.3985319629008e-08, 'lambda_l2': 1.0388768608312198e-08, 'num_leaves': 474, 'n_estimators': 1906, 'feature_fraction': 0.9901229233226178, 'bagging_fraction': 0.7509629307434704, 'bagging_freq': 2, 'min_child_samples': 71}. Best is trial 0 with value: 0.69441866030034.\u001b[0m\n",
      "\u001b[32m[I 2021-02-07 16:17:12,549]\u001b[0m Trial 2 finished with value: 0.7011165803466989 and parameters: {'lambda_l1': 1.1649345008949456e-06, 'lambda_l2': 0.0007013926523915066, 'num_leaves': 85, 'n_estimators': 2909, 'feature_fraction': 0.9176872805040283, 'bagging_fraction': 0.9478717799583923, 'bagging_freq': 7, 'min_child_samples': 23}. Best is trial 0 with value: 0.69441866030034.\u001b[0m\n",
      "\u001b[32m[I 2021-02-07 16:18:03,275]\u001b[0m Trial 3 finished with value: 0.7020373173748043 and parameters: {'lambda_l1': 0.030582582082759407, 'lambda_l2': 0.024527071930797485, 'num_leaves': 70, 'n_estimators': 905, 'feature_fraction': 0.8271533188833322, 'bagging_fraction': 0.974674302739923, 'bagging_freq': 6, 'min_child_samples': 57}. Best is trial 0 with value: 0.69441866030034.\u001b[0m\n",
      "\u001b[32m[I 2021-02-07 16:19:46,941]\u001b[0m Trial 4 finished with value: 0.6965248740991423 and parameters: {'lambda_l1': 1.314828755997351, 'lambda_l2': 4.614421632217734, 'num_leaves': 79, 'n_estimators': 2396, 'feature_fraction': 0.8965444372673268, 'bagging_fraction': 0.8028854578365956, 'bagging_freq': 6, 'min_child_samples': 84}. Best is trial 0 with value: 0.69441866030034.\u001b[0m\n",
      "\u001b[32m[I 2021-02-07 16:22:51,083]\u001b[0m Trial 5 finished with value: 0.6988510271563745 and parameters: {'lambda_l1': 6.598066029753718, 'lambda_l2': 0.06202180704813162, 'num_leaves': 221, 'n_estimators': 2055, 'feature_fraction': 0.952881443686404, 'bagging_fraction': 0.9369110650339378, 'bagging_freq': 2, 'min_child_samples': 6}. Best is trial 0 with value: 0.69441866030034.\u001b[0m\n",
      "\u001b[32m[I 2021-02-07 16:25:29,004]\u001b[0m Trial 6 finished with value: 0.6978520178811524 and parameters: {'lambda_l1': 0.004289884130964053, 'lambda_l2': 0.004331812110664289, 'num_leaves': 127, 'n_estimators': 2664, 'feature_fraction': 0.8100756389819779, 'bagging_fraction': 0.5330377300858434, 'bagging_freq': 1, 'min_child_samples': 64}. Best is trial 0 with value: 0.69441866030034.\u001b[0m\n",
      "\u001b[32m[I 2021-02-07 16:26:50,091]\u001b[0m Trial 7 finished with value: 0.6953419786091417 and parameters: {'lambda_l1': 8.90122259364962, 'lambda_l2': 0.0016238616819052607, 'num_leaves': 213, 'n_estimators': 1038, 'feature_fraction': 0.4644167701611673, 'bagging_fraction': 0.4465946656615229, 'bagging_freq': 4, 'min_child_samples': 35}. Best is trial 0 with value: 0.69441866030034.\u001b[0m\n",
      "\u001b[32m[I 2021-02-07 16:31:13,791]\u001b[0m Trial 8 finished with value: 0.6984536239868853 and parameters: {'lambda_l1': 0.0011174212939752464, 'lambda_l2': 0.0018515685539457444, 'num_leaves': 497, 'n_estimators': 2164, 'feature_fraction': 0.778268414135336, 'bagging_fraction': 0.803427931291129, 'bagging_freq': 3, 'min_child_samples': 100}. Best is trial 0 with value: 0.69441866030034.\u001b[0m\n",
      "\u001b[32m[I 2021-02-07 16:35:02,895]\u001b[0m Trial 9 finished with value: 0.6964606602952553 and parameters: {'lambda_l1': 2.874222560268913, 'lambda_l2': 1.9776526957151226e-06, 'num_leaves': 365, 'n_estimators': 2306, 'feature_fraction': 0.7099372878051313, 'bagging_fraction': 0.6801780227264591, 'bagging_freq': 5, 'min_child_samples': 28}. Best is trial 0 with value: 0.69441866030034.\u001b[0m\n",
      "\u001b[32m[I 2021-02-07 16:37:24,730]\u001b[0m Trial 10 finished with value: 0.6991289636650084 and parameters: {'lambda_l1': 6.977870620917067e-06, 'lambda_l2': 4.541172786618348, 'num_leaves': 344, 'n_estimators': 1406, 'feature_fraction': 0.515946111221585, 'bagging_fraction': 0.6157700755025417, 'bagging_freq': 1, 'min_child_samples': 5}. Best is trial 0 with value: 0.69441866030034.\u001b[0m\n",
      "\u001b[32m[I 2021-02-07 16:38:53,477]\u001b[0m Trial 11 finished with value: 0.6946414384535675 and parameters: {'lambda_l1': 0.2209406856586319, 'lambda_l2': 1.2068788711711083e-05, 'num_leaves': 204, 'n_estimators': 1346, 'feature_fraction': 0.49907372772665204, 'bagging_fraction': 0.40771313380071605, 'bagging_freq': 4, 'min_child_samples': 36}. Best is trial 0 with value: 0.69441866030034.\u001b[0m\n",
      "\u001b[32m[I 2021-02-07 16:40:21,918]\u001b[0m Trial 12 finished with value: 0.6915870426826783 and parameters: {'lambda_l1': 0.05840752478470963, 'lambda_l2': 3.6546657218860773e-05, 'num_leaves': 167, 'n_estimators': 1521, 'feature_fraction': 0.5767902821361377, 'bagging_fraction': 0.4135779975583473, 'bagging_freq': 4, 'min_child_samples': 16}. Best is trial 12 with value: 0.6915870426826783.\u001b[0m\n",
      "\u001b[32m[I 2021-02-07 16:41:05,746]\u001b[0m Trial 13 finished with value: 0.7034495539935101 and parameters: {'lambda_l1': 0.04449777168173361, 'lambda_l2': 1.8899037492584968e-05, 'num_leaves': 19, 'n_estimators': 1580, 'feature_fraction': 0.5992015903231235, 'bagging_fraction': 0.5256550416547707, 'bagging_freq': 3, 'min_child_samples': 14}. Best is trial 12 with value: 0.6915870426826783.\u001b[0m\n",
      "\u001b[32m[I 2021-02-07 16:42:43,877]\u001b[0m Trial 14 finished with value: 0.6945664992127826 and parameters: {'lambda_l1': 0.0001229225824878114, 'lambda_l2': 2.475752695567783e-07, 'num_leaves': 149, 'n_estimators': 1751, 'feature_fraction': 0.612351875978613, 'bagging_fraction': 0.5576154815638086, 'bagging_freq': 5, 'min_child_samples': 46}. Best is trial 12 with value: 0.6915870426826783.\u001b[0m\n",
      "\u001b[32m[I 2021-02-07 16:45:55,284]\u001b[0m Trial 15 finished with value: 0.6914455869838962 and parameters: {'lambda_l1': 0.21673346254423373, 'lambda_l2': 0.3297896837090027, 'num_leaves': 312, 'n_estimators': 2613, 'feature_fraction': 0.4069200805183236, 'bagging_fraction': 0.8653693028117451, 'bagging_freq': 3, 'min_child_samples': 16}. Best is trial 15 with value: 0.6914455869838962.\u001b[0m\n",
      "\u001b[32m[I 2021-02-07 16:49:12,811]\u001b[0m Trial 16 finished with value: 0.6975709466651309 and parameters: {'lambda_l1': 0.00797655365319761, 'lambda_l2': 0.00014987009789018248, 'num_leaves': 314, 'n_estimators': 2809, 'feature_fraction': 0.4097463428276281, 'bagging_fraction': 0.8924671489763927, 'bagging_freq': 3, 'min_child_samples': 19}. Best is trial 15 with value: 0.6914455869838962.\u001b[0m\n",
      "\u001b[32m[I 2021-02-07 16:50:54,334]\u001b[0m Trial 17 finished with value: 0.6928419075507951 and parameters: {'lambda_l1': 0.0003225478029028587, 'lambda_l2': 0.790007386301745, 'num_leaves': 287, 'n_estimators': 1213, 'feature_fraction': 0.403888098866245, 'bagging_fraction': 0.841126365495481, 'bagging_freq': 5, 'min_child_samples': 43}. Best is trial 15 with value: 0.6914455869838962.\u001b[0m\n",
      "\u001b[32m[I 2021-02-07 16:54:52,904]\u001b[0m Trial 18 finished with value: 0.6960804981233261 and parameters: {'lambda_l1': 0.3480035217608027, 'lambda_l2': 8.420078716158376e-08, 'num_leaves': 408, 'n_estimators': 2594, 'feature_fraction': 0.5472127112627174, 'bagging_fraction': 0.8871716916869693, 'bagging_freq': 2, 'min_child_samples': 14}. Best is trial 15 with value: 0.6914455869838962.\u001b[0m\n",
      "\u001b[32m[I 2021-02-07 16:56:02,310]\u001b[0m Trial 19 finished with value: 0.6978302098440695 and parameters: {'lambda_l1': 0.0313119272302622, 'lambda_l2': 8.851541760585958e-05, 'num_leaves': 264, 'n_estimators': 721, 'feature_fraction': 0.7030555331949453, 'bagging_fraction': 0.7588606836569778, 'bagging_freq': 4, 'min_child_samples': 31}. Best is trial 15 with value: 0.6914455869838962.\u001b[0m\n"
     ]
    },
    {
     "name": "stdout",
     "output_type": "stream",
     "text": [
      "Best trial: score 0.6914455869838962,\n",
      "params {'lambda_l1': 0.21673346254423373, 'lambda_l2': 0.3297896837090027, 'num_leaves': 312, 'n_estimators': 2613, 'feature_fraction': 0.4069200805183236, 'bagging_fraction': 0.8653693028117451, 'bagging_freq': 3, 'min_child_samples': 16}\n"
     ]
    }
   ],
   "source": [
    "study = optuna.create_study(direction='minimize',sampler=TPESampler())\n",
    "study.optimize(lambda trial : objectiveLGBM(trial, X, y, X_test), n_trials=20)\n",
    "print('Best trial: score {},\\nparams {}'.format(study.best_trial.value,study.best_trial.params))\n",
    "\n",
    "best_param2 = study.best_trial.params\n",
    "lgbm = LGBMRegressor(**best_param2, device=\"gpu\",gpu_use_dp=True, objective='regression', metric='root_mean_squared_error',  learning_rate= 0.01, boosting_type='gbdt')\n",
    "\n",
    "# Best trial: score 0.6934602592622415,\n",
    "# params {'lambda_l1': 4.168316306871167e-05, 'lambda_l2': 1.1288557039193647e-05, 'num_leaves': 98, 'n_estimators': 2280, 'feature_fraction': 0.7977209715952681, 'bagging_fraction': 0.4353577523638581, 'bagging_freq': 4, 'min_child_samples': 69}"
   ]
  },
  {
   "cell_type": "code",
   "execution_count": 11,
   "metadata": {
    "execution": {
     "iopub.execute_input": "2021-02-07T16:56:02.428708Z",
     "iopub.status.busy": "2021-02-07T16:56:02.428193Z",
     "iopub.status.idle": "2021-02-07T17:29:12.574829Z",
     "shell.execute_reply": "2021-02-07T17:29:12.575351Z"
    },
    "papermill": {
     "duration": 1990.1883,
     "end_time": "2021-02-07T17:29:12.575528",
     "exception": false,
     "start_time": "2021-02-07T16:56:02.387228",
     "status": "completed"
    },
    "tags": []
   },
   "outputs": [
    {
     "name": "stderr",
     "output_type": "stream",
     "text": [
      "/opt/conda/lib/python3.7/site-packages/sklearn/model_selection/_split.py:297: FutureWarning:\n",
      "\n",
      "Setting a random_state has no effect since shuffle is False. This will raise an error in 0.24. You should leave random_state to its default (None), or set shuffle=True.\n",
      "\n"
     ]
    },
    {
     "name": "stdout",
     "output_type": "stream",
     "text": [
      "task:         [regression]\n",
      "metric:       [mean_squared_error]\n",
      "mode:         [oof_pred_bag]\n",
      "n_models:     [5]\n",
      "\n",
      "model  0:     [LGBMRegressor]\n",
      "    fold  0:  [0.48797638]\n",
      "    fold  1:  [0.48673358]\n",
      "    fold  2:  [0.48295064]\n",
      "    fold  3:  [0.48321888]\n",
      "    fold  4:  [0.48330393]\n",
      "    ----\n",
      "    MEAN:     [0.48483668] + [0.00209665]\n",
      "    FULL:     [0.48483668]\n",
      "\n",
      "model  1:     [CatBoostRegressor]\n",
      "    fold  0:  [0.51095145]\n",
      "    fold  1:  [0.50854355]\n",
      "    fold  2:  [0.50425050]\n",
      "    fold  3:  [0.50109258]\n",
      "    fold  4:  [0.50131361]\n",
      "    ----\n",
      "    MEAN:     [0.50523034] + [0.00392760]\n",
      "    FULL:     [0.50523034]\n",
      "\n",
      "model  2:     [SGDRegressor]\n",
      "    fold  0:  [0.53213032]\n",
      "    fold  1:  [0.52991467]\n",
      "    fold  2:  [0.52802463]\n",
      "    fold  3:  [0.52502484]\n",
      "    fold  4:  [0.52474732]\n",
      "    ----\n",
      "    MEAN:     [0.52796836] + [0.00283382]\n",
      "    FULL:     [0.52796836]\n",
      "\n",
      "model  3:     [HistGradientBoostingRegressor]\n",
      "    fold  0:  [0.51057678]\n",
      "    fold  1:  [0.50814313]\n",
      "    fold  2:  [0.50652868]\n",
      "    fold  3:  [0.50436639]\n",
      "    fold  4:  [0.50433171]\n",
      "    ----\n",
      "    MEAN:     [0.50678934] + [0.00237302]\n",
      "    FULL:     [0.50678934]\n",
      "\n",
      "model  4:     [XGBRegressor]\n",
      "    fold  0:  [0.48845509]\n",
      "    fold  1:  [0.48704164]\n",
      "    fold  2:  [0.48348524]\n",
      "    fold  3:  [0.48330865]\n",
      "    fold  4:  [0.48385876]\n",
      "    ----\n",
      "    MEAN:     [0.48522988] + [0.00211184]\n",
      "    FULL:     [0.48522988]\n",
      "\n",
      "0.03726822210069083\n"
     ]
    }
   ],
   "source": [
    "from vecstack import stacking\n",
    "\n",
    "final_model = xgb.XGBRegressor(n_estimators= 2000, max_depth= 16,tree_method='gpu_hist', predictor='gpu_predictor')\n",
    "sgd = SGDRegressor(max_iter=1000)\n",
    "hgb = HistGradientBoostingRegressor( max_depth=3, min_samples_leaf=1)\n",
    "cat = CatBoostRegressor(task_type=\"GPU\", verbose=False)\n",
    "\n",
    "estimators = [\n",
    "    lgbm, cat, sgd, hgb, xgbReg\n",
    "]\n",
    "\n",
    "S_train, S_test = stacking(estimators,  X, y, X_test, regression=True, metric=mean_squared_error, n_folds=5, \n",
    "                           shuffle=False, random_state=0, verbose=2)\n",
    "final_model.fit(S_train, y)\n",
    "\n",
    "print(mean_squared_error(final_model.predict(S_train), y, squared=False))"
   ]
  },
  {
   "cell_type": "code",
   "execution_count": 12,
   "metadata": {
    "execution": {
     "iopub.execute_input": "2021-02-07T17:29:12.668760Z",
     "iopub.status.busy": "2021-02-07T17:29:12.667813Z",
     "iopub.status.idle": "2021-02-07T17:29:15.413822Z",
     "shell.execute_reply": "2021-02-07T17:29:15.413089Z"
    },
    "papermill": {
     "duration": 2.797079,
     "end_time": "2021-02-07T17:29:15.413944",
     "exception": false,
     "start_time": "2021-02-07T17:29:12.616865",
     "status": "completed"
    },
    "tags": []
   },
   "outputs": [
    {
     "data": {
      "text/plain": [
       "['/kaggle/working/skacking.pkl']"
      ]
     },
     "execution_count": 12,
     "metadata": {},
     "output_type": "execute_result"
    }
   ],
   "source": [
    "submission = pd.read_csv(\"/kaggle/input/tabular-playground-series-jan-2021/test.csv\", index_col=[\"id\"])\n",
    "y_hat = final_model.predict(S_test)        \n",
    "\n",
    "submission[\"target\"] = y_hat \n",
    "submission[[\"target\"]].to_csv(\"/kaggle/working/submission_stacking.csv\")\n",
    "joblib.dump(final_model, '/kaggle/working/skacking.pkl')"
   ]
  },
  {
   "cell_type": "code",
   "execution_count": 13,
   "metadata": {
    "execution": {
     "iopub.execute_input": "2021-02-07T17:29:15.506221Z",
     "iopub.status.busy": "2021-02-07T17:29:15.505440Z",
     "iopub.status.idle": "2021-02-07T17:37:13.735990Z",
     "shell.execute_reply": "2021-02-07T17:37:13.735539Z"
    },
    "papermill": {
     "duration": 478.280023,
     "end_time": "2021-02-07T17:37:13.736112",
     "exception": false,
     "start_time": "2021-02-07T17:29:15.456089",
     "status": "completed"
    },
    "tags": []
   },
   "outputs": [
    {
     "name": "stdout",
     "output_type": "stream",
     "text": [
      "0.5864615081487411\n"
     ]
    },
    {
     "data": {
      "text/plain": [
       "['/kaggle/working/lgbm.pkl']"
      ]
     },
     "execution_count": 13,
     "metadata": {},
     "output_type": "execute_result"
    }
   ],
   "source": [
    "submission = pd.read_csv(\"/kaggle/input/tabular-playground-series-jan-2021/test.csv\", index_col=[\"id\"])\n",
    "lgbm = LGBMRegressor(**best_param2, device=\"gpu\",gpu_use_dp=True, objective='regression', learning_rate= 0.01, metric='root_mean_squared_error', boosting_type='gbdt')\n",
    "lgbm = lgbm.fit(X, y, verbose=False)\n",
    "y_hat = lgbm.predict(submission.to_numpy())        \n",
    "print(mean_squared_error(lgbm.predict(X), y, squared=False))\n",
    "submission[\"target\"] = y_hat \n",
    "submission[[\"target\"]].to_csv(\"/kaggle/working/submission_lgbm.csv\")\n",
    "joblib.dump(lgbm, '/kaggle/working/lgbm.pkl')"
   ]
  },
  {
   "cell_type": "code",
   "execution_count": 14,
   "metadata": {
    "execution": {
     "iopub.execute_input": "2021-02-07T17:37:13.833694Z",
     "iopub.status.busy": "2021-02-07T17:37:13.832897Z",
     "iopub.status.idle": "2021-02-07T17:37:36.528721Z",
     "shell.execute_reply": "2021-02-07T17:37:36.529126Z"
    },
    "papermill": {
     "duration": 22.750354,
     "end_time": "2021-02-07T17:37:36.529265",
     "exception": false,
     "start_time": "2021-02-07T17:37:13.778911",
     "status": "completed"
    },
    "tags": []
   },
   "outputs": [
    {
     "name": "stdout",
     "output_type": "stream",
     "text": [
      "0.6635022057160923\n",
      "0.6666673015230643\n"
     ]
    },
    {
     "data": {
      "text/plain": [
       "['/kaggle/working/xgb_reg.pkl']"
      ]
     },
     "execution_count": 14,
     "metadata": {},
     "output_type": "execute_result"
    }
   ],
   "source": [
    "submission = pd.read_csv(\"/kaggle/input/tabular-playground-series-jan-2021/test.csv\", index_col=[\"id\"])\n",
    "params =  {'n_estimators': 3520, 'max_depth': 11, 'min_child_weight': 231, 'gamma': 2, 'colsample_bytree': 0.7, 'lambda': 0.014950936465569798, 'alpha': 0.28520156840812494, 'subsample': 0.6}\n",
    "xgbReg = train(xgb.XGBRegressor(**params, tree_method='gpu_hist', random_state=42, predictor='gpu_predictor', learning_rate=0.01, nthread=-1))\n",
    "\n",
    "y_hat = xgbReg.predict(submission.to_numpy())        \n",
    "print(mean_squared_error(xgbReg.predict(X), y, squared=False))\n",
    "\n",
    "submission[\"target\"] = y_hat \n",
    "submission[[\"target\"]].to_csv(\"/kaggle/working/submission_xgb.csv\")\n",
    "joblib.dump(xgbReg, '/kaggle/working/xgb_reg.pkl')"
   ]
  }
 ],
 "metadata": {
  "kernelspec": {
   "display_name": "Python 3",
   "language": "python",
   "name": "python3"
  },
  "language_info": {
   "codemirror_mode": {
    "name": "ipython",
    "version": 3
   },
   "file_extension": ".py",
   "mimetype": "text/x-python",
   "name": "python",
   "nbconvert_exporter": "python",
   "pygments_lexer": "ipython3",
   "version": "3.9.16"
  },
  "papermill": {
   "duration": 6814.651444,
   "end_time": "2021-02-07T17:37:37.954106",
   "environment_variables": {},
   "exception": null,
   "input_path": "__notebook__.ipynb",
   "output_path": "__notebook__.ipynb",
   "parameters": {},
   "start_time": "2021-02-07T15:44:03.302662",
   "version": "2.1.0"
  }
 },
 "nbformat": 4,
 "nbformat_minor": 4
}
